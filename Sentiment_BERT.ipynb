{
  "nbformat": 4,
  "nbformat_minor": 0,
  "metadata": {
    "colab": {
      "name": "Sentiment BERT.ipynb",
      "provenance": []
    },
    "kernelspec": {
      "name": "python3",
      "display_name": "Python 3"
    },
    "language_info": {
      "name": "python"
    },
    "accelerator": "GPU",
    "gpuClass": "standard",
    "widgets": {
      "application/vnd.jupyter.widget-state+json": {
        "c5f80b586be44797b7efab866cb92544": {
          "model_module": "@jupyter-widgets/controls",
          "model_name": "HBoxModel",
          "model_module_version": "1.5.0",
          "state": {
            "_dom_classes": [],
            "_model_module": "@jupyter-widgets/controls",
            "_model_module_version": "1.5.0",
            "_model_name": "HBoxModel",
            "_view_count": null,
            "_view_module": "@jupyter-widgets/controls",
            "_view_module_version": "1.5.0",
            "_view_name": "HBoxView",
            "box_style": "",
            "children": [
              "IPY_MODEL_6984cb4c79734f1bb4287eaf52e256d8",
              "IPY_MODEL_23b162c85a5b4bc1bdb3c1c910906035",
              "IPY_MODEL_c6841db4f6fd4d2eb902024474c6f53a"
            ],
            "layout": "IPY_MODEL_6a9bfe0cf8bd43349e8932bf8931f0eb"
          }
        },
        "6984cb4c79734f1bb4287eaf52e256d8": {
          "model_module": "@jupyter-widgets/controls",
          "model_name": "HTMLModel",
          "model_module_version": "1.5.0",
          "state": {
            "_dom_classes": [],
            "_model_module": "@jupyter-widgets/controls",
            "_model_module_version": "1.5.0",
            "_model_name": "HTMLModel",
            "_view_count": null,
            "_view_module": "@jupyter-widgets/controls",
            "_view_module_version": "1.5.0",
            "_view_name": "HTMLView",
            "description": "",
            "description_tooltip": null,
            "layout": "IPY_MODEL_4c2f46dc88a847e68aee477ffa634cc8",
            "placeholder": "​",
            "style": "IPY_MODEL_02990b6624ff4c05a7ede770a8866a02",
            "value": "Downloading: 100%"
          }
        },
        "23b162c85a5b4bc1bdb3c1c910906035": {
          "model_module": "@jupyter-widgets/controls",
          "model_name": "FloatProgressModel",
          "model_module_version": "1.5.0",
          "state": {
            "_dom_classes": [],
            "_model_module": "@jupyter-widgets/controls",
            "_model_module_version": "1.5.0",
            "_model_name": "FloatProgressModel",
            "_view_count": null,
            "_view_module": "@jupyter-widgets/controls",
            "_view_module_version": "1.5.0",
            "_view_name": "ProgressView",
            "bar_style": "success",
            "description": "",
            "description_tooltip": null,
            "layout": "IPY_MODEL_17dd9115a3034093a6775c8ad4dd224c",
            "max": 213450,
            "min": 0,
            "orientation": "horizontal",
            "style": "IPY_MODEL_1d5a597953ab45669b2cc59f42d6aca2",
            "value": 213450
          }
        },
        "c6841db4f6fd4d2eb902024474c6f53a": {
          "model_module": "@jupyter-widgets/controls",
          "model_name": "HTMLModel",
          "model_module_version": "1.5.0",
          "state": {
            "_dom_classes": [],
            "_model_module": "@jupyter-widgets/controls",
            "_model_module_version": "1.5.0",
            "_model_name": "HTMLModel",
            "_view_count": null,
            "_view_module": "@jupyter-widgets/controls",
            "_view_module_version": "1.5.0",
            "_view_name": "HTMLView",
            "description": "",
            "description_tooltip": null,
            "layout": "IPY_MODEL_d5e55b8160ee4e0b94f1362f1062b840",
            "placeholder": "​",
            "style": "IPY_MODEL_4581d8922e124299bf50ffe6d0caac65",
            "value": " 208k/208k [00:00&lt;00:00, 199kB/s]"
          }
        },
        "6a9bfe0cf8bd43349e8932bf8931f0eb": {
          "model_module": "@jupyter-widgets/base",
          "model_name": "LayoutModel",
          "model_module_version": "1.2.0",
          "state": {
            "_model_module": "@jupyter-widgets/base",
            "_model_module_version": "1.2.0",
            "_model_name": "LayoutModel",
            "_view_count": null,
            "_view_module": "@jupyter-widgets/base",
            "_view_module_version": "1.2.0",
            "_view_name": "LayoutView",
            "align_content": null,
            "align_items": null,
            "align_self": null,
            "border": null,
            "bottom": null,
            "display": null,
            "flex": null,
            "flex_flow": null,
            "grid_area": null,
            "grid_auto_columns": null,
            "grid_auto_flow": null,
            "grid_auto_rows": null,
            "grid_column": null,
            "grid_gap": null,
            "grid_row": null,
            "grid_template_areas": null,
            "grid_template_columns": null,
            "grid_template_rows": null,
            "height": null,
            "justify_content": null,
            "justify_items": null,
            "left": null,
            "margin": null,
            "max_height": null,
            "max_width": null,
            "min_height": null,
            "min_width": null,
            "object_fit": null,
            "object_position": null,
            "order": null,
            "overflow": null,
            "overflow_x": null,
            "overflow_y": null,
            "padding": null,
            "right": null,
            "top": null,
            "visibility": null,
            "width": null
          }
        },
        "4c2f46dc88a847e68aee477ffa634cc8": {
          "model_module": "@jupyter-widgets/base",
          "model_name": "LayoutModel",
          "model_module_version": "1.2.0",
          "state": {
            "_model_module": "@jupyter-widgets/base",
            "_model_module_version": "1.2.0",
            "_model_name": "LayoutModel",
            "_view_count": null,
            "_view_module": "@jupyter-widgets/base",
            "_view_module_version": "1.2.0",
            "_view_name": "LayoutView",
            "align_content": null,
            "align_items": null,
            "align_self": null,
            "border": null,
            "bottom": null,
            "display": null,
            "flex": null,
            "flex_flow": null,
            "grid_area": null,
            "grid_auto_columns": null,
            "grid_auto_flow": null,
            "grid_auto_rows": null,
            "grid_column": null,
            "grid_gap": null,
            "grid_row": null,
            "grid_template_areas": null,
            "grid_template_columns": null,
            "grid_template_rows": null,
            "height": null,
            "justify_content": null,
            "justify_items": null,
            "left": null,
            "margin": null,
            "max_height": null,
            "max_width": null,
            "min_height": null,
            "min_width": null,
            "object_fit": null,
            "object_position": null,
            "order": null,
            "overflow": null,
            "overflow_x": null,
            "overflow_y": null,
            "padding": null,
            "right": null,
            "top": null,
            "visibility": null,
            "width": null
          }
        },
        "02990b6624ff4c05a7ede770a8866a02": {
          "model_module": "@jupyter-widgets/controls",
          "model_name": "DescriptionStyleModel",
          "model_module_version": "1.5.0",
          "state": {
            "_model_module": "@jupyter-widgets/controls",
            "_model_module_version": "1.5.0",
            "_model_name": "DescriptionStyleModel",
            "_view_count": null,
            "_view_module": "@jupyter-widgets/base",
            "_view_module_version": "1.2.0",
            "_view_name": "StyleView",
            "description_width": ""
          }
        },
        "17dd9115a3034093a6775c8ad4dd224c": {
          "model_module": "@jupyter-widgets/base",
          "model_name": "LayoutModel",
          "model_module_version": "1.2.0",
          "state": {
            "_model_module": "@jupyter-widgets/base",
            "_model_module_version": "1.2.0",
            "_model_name": "LayoutModel",
            "_view_count": null,
            "_view_module": "@jupyter-widgets/base",
            "_view_module_version": "1.2.0",
            "_view_name": "LayoutView",
            "align_content": null,
            "align_items": null,
            "align_self": null,
            "border": null,
            "bottom": null,
            "display": null,
            "flex": null,
            "flex_flow": null,
            "grid_area": null,
            "grid_auto_columns": null,
            "grid_auto_flow": null,
            "grid_auto_rows": null,
            "grid_column": null,
            "grid_gap": null,
            "grid_row": null,
            "grid_template_areas": null,
            "grid_template_columns": null,
            "grid_template_rows": null,
            "height": null,
            "justify_content": null,
            "justify_items": null,
            "left": null,
            "margin": null,
            "max_height": null,
            "max_width": null,
            "min_height": null,
            "min_width": null,
            "object_fit": null,
            "object_position": null,
            "order": null,
            "overflow": null,
            "overflow_x": null,
            "overflow_y": null,
            "padding": null,
            "right": null,
            "top": null,
            "visibility": null,
            "width": null
          }
        },
        "1d5a597953ab45669b2cc59f42d6aca2": {
          "model_module": "@jupyter-widgets/controls",
          "model_name": "ProgressStyleModel",
          "model_module_version": "1.5.0",
          "state": {
            "_model_module": "@jupyter-widgets/controls",
            "_model_module_version": "1.5.0",
            "_model_name": "ProgressStyleModel",
            "_view_count": null,
            "_view_module": "@jupyter-widgets/base",
            "_view_module_version": "1.2.0",
            "_view_name": "StyleView",
            "bar_color": null,
            "description_width": ""
          }
        },
        "d5e55b8160ee4e0b94f1362f1062b840": {
          "model_module": "@jupyter-widgets/base",
          "model_name": "LayoutModel",
          "model_module_version": "1.2.0",
          "state": {
            "_model_module": "@jupyter-widgets/base",
            "_model_module_version": "1.2.0",
            "_model_name": "LayoutModel",
            "_view_count": null,
            "_view_module": "@jupyter-widgets/base",
            "_view_module_version": "1.2.0",
            "_view_name": "LayoutView",
            "align_content": null,
            "align_items": null,
            "align_self": null,
            "border": null,
            "bottom": null,
            "display": null,
            "flex": null,
            "flex_flow": null,
            "grid_area": null,
            "grid_auto_columns": null,
            "grid_auto_flow": null,
            "grid_auto_rows": null,
            "grid_column": null,
            "grid_gap": null,
            "grid_row": null,
            "grid_template_areas": null,
            "grid_template_columns": null,
            "grid_template_rows": null,
            "height": null,
            "justify_content": null,
            "justify_items": null,
            "left": null,
            "margin": null,
            "max_height": null,
            "max_width": null,
            "min_height": null,
            "min_width": null,
            "object_fit": null,
            "object_position": null,
            "order": null,
            "overflow": null,
            "overflow_x": null,
            "overflow_y": null,
            "padding": null,
            "right": null,
            "top": null,
            "visibility": null,
            "width": null
          }
        },
        "4581d8922e124299bf50ffe6d0caac65": {
          "model_module": "@jupyter-widgets/controls",
          "model_name": "DescriptionStyleModel",
          "model_module_version": "1.5.0",
          "state": {
            "_model_module": "@jupyter-widgets/controls",
            "_model_module_version": "1.5.0",
            "_model_name": "DescriptionStyleModel",
            "_view_count": null,
            "_view_module": "@jupyter-widgets/base",
            "_view_module_version": "1.2.0",
            "_view_name": "StyleView",
            "description_width": ""
          }
        },
        "c2dc14f66efe4c38ab009d5357f76dba": {
          "model_module": "@jupyter-widgets/controls",
          "model_name": "HBoxModel",
          "model_module_version": "1.5.0",
          "state": {
            "_dom_classes": [],
            "_model_module": "@jupyter-widgets/controls",
            "_model_module_version": "1.5.0",
            "_model_name": "HBoxModel",
            "_view_count": null,
            "_view_module": "@jupyter-widgets/controls",
            "_view_module_version": "1.5.0",
            "_view_name": "HBoxView",
            "box_style": "",
            "children": [
              "IPY_MODEL_352938871a2d4cde8c322a0c6eef0ace",
              "IPY_MODEL_0b7d40a1dbc647ddba96440995d63002",
              "IPY_MODEL_63b4e666771e457a86e4cdc96f780139"
            ],
            "layout": "IPY_MODEL_0a1116c91f474f7c8bff3440063c2c2c"
          }
        },
        "352938871a2d4cde8c322a0c6eef0ace": {
          "model_module": "@jupyter-widgets/controls",
          "model_name": "HTMLModel",
          "model_module_version": "1.5.0",
          "state": {
            "_dom_classes": [],
            "_model_module": "@jupyter-widgets/controls",
            "_model_module_version": "1.5.0",
            "_model_name": "HTMLModel",
            "_view_count": null,
            "_view_module": "@jupyter-widgets/controls",
            "_view_module_version": "1.5.0",
            "_view_name": "HTMLView",
            "description": "",
            "description_tooltip": null,
            "layout": "IPY_MODEL_753f79e11c8e4d7e841eb9ad3414db2b",
            "placeholder": "​",
            "style": "IPY_MODEL_9cb117522e8c42fa8c8d55adbce5789e",
            "value": "Downloading: 100%"
          }
        },
        "0b7d40a1dbc647ddba96440995d63002": {
          "model_module": "@jupyter-widgets/controls",
          "model_name": "FloatProgressModel",
          "model_module_version": "1.5.0",
          "state": {
            "_dom_classes": [],
            "_model_module": "@jupyter-widgets/controls",
            "_model_module_version": "1.5.0",
            "_model_name": "FloatProgressModel",
            "_view_count": null,
            "_view_module": "@jupyter-widgets/controls",
            "_view_module_version": "1.5.0",
            "_view_name": "ProgressView",
            "bar_style": "success",
            "description": "",
            "description_tooltip": null,
            "layout": "IPY_MODEL_146fa3e0b07f4cb2aa58e317a40a898d",
            "max": 29,
            "min": 0,
            "orientation": "horizontal",
            "style": "IPY_MODEL_3d12cdf2622d4b73852546944a7fae9d",
            "value": 29
          }
        },
        "63b4e666771e457a86e4cdc96f780139": {
          "model_module": "@jupyter-widgets/controls",
          "model_name": "HTMLModel",
          "model_module_version": "1.5.0",
          "state": {
            "_dom_classes": [],
            "_model_module": "@jupyter-widgets/controls",
            "_model_module_version": "1.5.0",
            "_model_name": "HTMLModel",
            "_view_count": null,
            "_view_module": "@jupyter-widgets/controls",
            "_view_module_version": "1.5.0",
            "_view_name": "HTMLView",
            "description": "",
            "description_tooltip": null,
            "layout": "IPY_MODEL_1cfe7d277c194224898c808732f3abe7",
            "placeholder": "​",
            "style": "IPY_MODEL_6824aa91306e414c88a728ccfaaf805e",
            "value": " 29.0/29.0 [00:00&lt;00:00, 257B/s]"
          }
        },
        "0a1116c91f474f7c8bff3440063c2c2c": {
          "model_module": "@jupyter-widgets/base",
          "model_name": "LayoutModel",
          "model_module_version": "1.2.0",
          "state": {
            "_model_module": "@jupyter-widgets/base",
            "_model_module_version": "1.2.0",
            "_model_name": "LayoutModel",
            "_view_count": null,
            "_view_module": "@jupyter-widgets/base",
            "_view_module_version": "1.2.0",
            "_view_name": "LayoutView",
            "align_content": null,
            "align_items": null,
            "align_self": null,
            "border": null,
            "bottom": null,
            "display": null,
            "flex": null,
            "flex_flow": null,
            "grid_area": null,
            "grid_auto_columns": null,
            "grid_auto_flow": null,
            "grid_auto_rows": null,
            "grid_column": null,
            "grid_gap": null,
            "grid_row": null,
            "grid_template_areas": null,
            "grid_template_columns": null,
            "grid_template_rows": null,
            "height": null,
            "justify_content": null,
            "justify_items": null,
            "left": null,
            "margin": null,
            "max_height": null,
            "max_width": null,
            "min_height": null,
            "min_width": null,
            "object_fit": null,
            "object_position": null,
            "order": null,
            "overflow": null,
            "overflow_x": null,
            "overflow_y": null,
            "padding": null,
            "right": null,
            "top": null,
            "visibility": null,
            "width": null
          }
        },
        "753f79e11c8e4d7e841eb9ad3414db2b": {
          "model_module": "@jupyter-widgets/base",
          "model_name": "LayoutModel",
          "model_module_version": "1.2.0",
          "state": {
            "_model_module": "@jupyter-widgets/base",
            "_model_module_version": "1.2.0",
            "_model_name": "LayoutModel",
            "_view_count": null,
            "_view_module": "@jupyter-widgets/base",
            "_view_module_version": "1.2.0",
            "_view_name": "LayoutView",
            "align_content": null,
            "align_items": null,
            "align_self": null,
            "border": null,
            "bottom": null,
            "display": null,
            "flex": null,
            "flex_flow": null,
            "grid_area": null,
            "grid_auto_columns": null,
            "grid_auto_flow": null,
            "grid_auto_rows": null,
            "grid_column": null,
            "grid_gap": null,
            "grid_row": null,
            "grid_template_areas": null,
            "grid_template_columns": null,
            "grid_template_rows": null,
            "height": null,
            "justify_content": null,
            "justify_items": null,
            "left": null,
            "margin": null,
            "max_height": null,
            "max_width": null,
            "min_height": null,
            "min_width": null,
            "object_fit": null,
            "object_position": null,
            "order": null,
            "overflow": null,
            "overflow_x": null,
            "overflow_y": null,
            "padding": null,
            "right": null,
            "top": null,
            "visibility": null,
            "width": null
          }
        },
        "9cb117522e8c42fa8c8d55adbce5789e": {
          "model_module": "@jupyter-widgets/controls",
          "model_name": "DescriptionStyleModel",
          "model_module_version": "1.5.0",
          "state": {
            "_model_module": "@jupyter-widgets/controls",
            "_model_module_version": "1.5.0",
            "_model_name": "DescriptionStyleModel",
            "_view_count": null,
            "_view_module": "@jupyter-widgets/base",
            "_view_module_version": "1.2.0",
            "_view_name": "StyleView",
            "description_width": ""
          }
        },
        "146fa3e0b07f4cb2aa58e317a40a898d": {
          "model_module": "@jupyter-widgets/base",
          "model_name": "LayoutModel",
          "model_module_version": "1.2.0",
          "state": {
            "_model_module": "@jupyter-widgets/base",
            "_model_module_version": "1.2.0",
            "_model_name": "LayoutModel",
            "_view_count": null,
            "_view_module": "@jupyter-widgets/base",
            "_view_module_version": "1.2.0",
            "_view_name": "LayoutView",
            "align_content": null,
            "align_items": null,
            "align_self": null,
            "border": null,
            "bottom": null,
            "display": null,
            "flex": null,
            "flex_flow": null,
            "grid_area": null,
            "grid_auto_columns": null,
            "grid_auto_flow": null,
            "grid_auto_rows": null,
            "grid_column": null,
            "grid_gap": null,
            "grid_row": null,
            "grid_template_areas": null,
            "grid_template_columns": null,
            "grid_template_rows": null,
            "height": null,
            "justify_content": null,
            "justify_items": null,
            "left": null,
            "margin": null,
            "max_height": null,
            "max_width": null,
            "min_height": null,
            "min_width": null,
            "object_fit": null,
            "object_position": null,
            "order": null,
            "overflow": null,
            "overflow_x": null,
            "overflow_y": null,
            "padding": null,
            "right": null,
            "top": null,
            "visibility": null,
            "width": null
          }
        },
        "3d12cdf2622d4b73852546944a7fae9d": {
          "model_module": "@jupyter-widgets/controls",
          "model_name": "ProgressStyleModel",
          "model_module_version": "1.5.0",
          "state": {
            "_model_module": "@jupyter-widgets/controls",
            "_model_module_version": "1.5.0",
            "_model_name": "ProgressStyleModel",
            "_view_count": null,
            "_view_module": "@jupyter-widgets/base",
            "_view_module_version": "1.2.0",
            "_view_name": "StyleView",
            "bar_color": null,
            "description_width": ""
          }
        },
        "1cfe7d277c194224898c808732f3abe7": {
          "model_module": "@jupyter-widgets/base",
          "model_name": "LayoutModel",
          "model_module_version": "1.2.0",
          "state": {
            "_model_module": "@jupyter-widgets/base",
            "_model_module_version": "1.2.0",
            "_model_name": "LayoutModel",
            "_view_count": null,
            "_view_module": "@jupyter-widgets/base",
            "_view_module_version": "1.2.0",
            "_view_name": "LayoutView",
            "align_content": null,
            "align_items": null,
            "align_self": null,
            "border": null,
            "bottom": null,
            "display": null,
            "flex": null,
            "flex_flow": null,
            "grid_area": null,
            "grid_auto_columns": null,
            "grid_auto_flow": null,
            "grid_auto_rows": null,
            "grid_column": null,
            "grid_gap": null,
            "grid_row": null,
            "grid_template_areas": null,
            "grid_template_columns": null,
            "grid_template_rows": null,
            "height": null,
            "justify_content": null,
            "justify_items": null,
            "left": null,
            "margin": null,
            "max_height": null,
            "max_width": null,
            "min_height": null,
            "min_width": null,
            "object_fit": null,
            "object_position": null,
            "order": null,
            "overflow": null,
            "overflow_x": null,
            "overflow_y": null,
            "padding": null,
            "right": null,
            "top": null,
            "visibility": null,
            "width": null
          }
        },
        "6824aa91306e414c88a728ccfaaf805e": {
          "model_module": "@jupyter-widgets/controls",
          "model_name": "DescriptionStyleModel",
          "model_module_version": "1.5.0",
          "state": {
            "_model_module": "@jupyter-widgets/controls",
            "_model_module_version": "1.5.0",
            "_model_name": "DescriptionStyleModel",
            "_view_count": null,
            "_view_module": "@jupyter-widgets/base",
            "_view_module_version": "1.2.0",
            "_view_name": "StyleView",
            "description_width": ""
          }
        },
        "4fb87a5dbc104b1bbf2917c7f0f9fa58": {
          "model_module": "@jupyter-widgets/controls",
          "model_name": "HBoxModel",
          "model_module_version": "1.5.0",
          "state": {
            "_dom_classes": [],
            "_model_module": "@jupyter-widgets/controls",
            "_model_module_version": "1.5.0",
            "_model_name": "HBoxModel",
            "_view_count": null,
            "_view_module": "@jupyter-widgets/controls",
            "_view_module_version": "1.5.0",
            "_view_name": "HBoxView",
            "box_style": "",
            "children": [
              "IPY_MODEL_c20328eac7a141a6a25a9f90a1dad313",
              "IPY_MODEL_82ce54c22ce44859b48f68a3ad7c4863",
              "IPY_MODEL_b95a394331e64f92a3e248089eede41f"
            ],
            "layout": "IPY_MODEL_b2dbea5b1bd5492ebf88edcc5de32bd9"
          }
        },
        "c20328eac7a141a6a25a9f90a1dad313": {
          "model_module": "@jupyter-widgets/controls",
          "model_name": "HTMLModel",
          "model_module_version": "1.5.0",
          "state": {
            "_dom_classes": [],
            "_model_module": "@jupyter-widgets/controls",
            "_model_module_version": "1.5.0",
            "_model_name": "HTMLModel",
            "_view_count": null,
            "_view_module": "@jupyter-widgets/controls",
            "_view_module_version": "1.5.0",
            "_view_name": "HTMLView",
            "description": "",
            "description_tooltip": null,
            "layout": "IPY_MODEL_4275543233014abdb206792fb45264bf",
            "placeholder": "​",
            "style": "IPY_MODEL_7c58b0b0bd6a48b0a5d5da6c911cb2e6",
            "value": "Downloading: 100%"
          }
        },
        "82ce54c22ce44859b48f68a3ad7c4863": {
          "model_module": "@jupyter-widgets/controls",
          "model_name": "FloatProgressModel",
          "model_module_version": "1.5.0",
          "state": {
            "_dom_classes": [],
            "_model_module": "@jupyter-widgets/controls",
            "_model_module_version": "1.5.0",
            "_model_name": "FloatProgressModel",
            "_view_count": null,
            "_view_module": "@jupyter-widgets/controls",
            "_view_module_version": "1.5.0",
            "_view_name": "ProgressView",
            "bar_style": "success",
            "description": "",
            "description_tooltip": null,
            "layout": "IPY_MODEL_5b335f9e5e584171a1293ae0879632b8",
            "max": 570,
            "min": 0,
            "orientation": "horizontal",
            "style": "IPY_MODEL_2072ececa9d14b7da9ab7200a5e16a7a",
            "value": 570
          }
        },
        "b95a394331e64f92a3e248089eede41f": {
          "model_module": "@jupyter-widgets/controls",
          "model_name": "HTMLModel",
          "model_module_version": "1.5.0",
          "state": {
            "_dom_classes": [],
            "_model_module": "@jupyter-widgets/controls",
            "_model_module_version": "1.5.0",
            "_model_name": "HTMLModel",
            "_view_count": null,
            "_view_module": "@jupyter-widgets/controls",
            "_view_module_version": "1.5.0",
            "_view_name": "HTMLView",
            "description": "",
            "description_tooltip": null,
            "layout": "IPY_MODEL_b84353c6966a48e08ddfd02e57344cd6",
            "placeholder": "​",
            "style": "IPY_MODEL_7a4d78ad14eb45458c68c007eaf9f8de",
            "value": " 570/570 [00:00&lt;00:00, 10.5kB/s]"
          }
        },
        "b2dbea5b1bd5492ebf88edcc5de32bd9": {
          "model_module": "@jupyter-widgets/base",
          "model_name": "LayoutModel",
          "model_module_version": "1.2.0",
          "state": {
            "_model_module": "@jupyter-widgets/base",
            "_model_module_version": "1.2.0",
            "_model_name": "LayoutModel",
            "_view_count": null,
            "_view_module": "@jupyter-widgets/base",
            "_view_module_version": "1.2.0",
            "_view_name": "LayoutView",
            "align_content": null,
            "align_items": null,
            "align_self": null,
            "border": null,
            "bottom": null,
            "display": null,
            "flex": null,
            "flex_flow": null,
            "grid_area": null,
            "grid_auto_columns": null,
            "grid_auto_flow": null,
            "grid_auto_rows": null,
            "grid_column": null,
            "grid_gap": null,
            "grid_row": null,
            "grid_template_areas": null,
            "grid_template_columns": null,
            "grid_template_rows": null,
            "height": null,
            "justify_content": null,
            "justify_items": null,
            "left": null,
            "margin": null,
            "max_height": null,
            "max_width": null,
            "min_height": null,
            "min_width": null,
            "object_fit": null,
            "object_position": null,
            "order": null,
            "overflow": null,
            "overflow_x": null,
            "overflow_y": null,
            "padding": null,
            "right": null,
            "top": null,
            "visibility": null,
            "width": null
          }
        },
        "4275543233014abdb206792fb45264bf": {
          "model_module": "@jupyter-widgets/base",
          "model_name": "LayoutModel",
          "model_module_version": "1.2.0",
          "state": {
            "_model_module": "@jupyter-widgets/base",
            "_model_module_version": "1.2.0",
            "_model_name": "LayoutModel",
            "_view_count": null,
            "_view_module": "@jupyter-widgets/base",
            "_view_module_version": "1.2.0",
            "_view_name": "LayoutView",
            "align_content": null,
            "align_items": null,
            "align_self": null,
            "border": null,
            "bottom": null,
            "display": null,
            "flex": null,
            "flex_flow": null,
            "grid_area": null,
            "grid_auto_columns": null,
            "grid_auto_flow": null,
            "grid_auto_rows": null,
            "grid_column": null,
            "grid_gap": null,
            "grid_row": null,
            "grid_template_areas": null,
            "grid_template_columns": null,
            "grid_template_rows": null,
            "height": null,
            "justify_content": null,
            "justify_items": null,
            "left": null,
            "margin": null,
            "max_height": null,
            "max_width": null,
            "min_height": null,
            "min_width": null,
            "object_fit": null,
            "object_position": null,
            "order": null,
            "overflow": null,
            "overflow_x": null,
            "overflow_y": null,
            "padding": null,
            "right": null,
            "top": null,
            "visibility": null,
            "width": null
          }
        },
        "7c58b0b0bd6a48b0a5d5da6c911cb2e6": {
          "model_module": "@jupyter-widgets/controls",
          "model_name": "DescriptionStyleModel",
          "model_module_version": "1.5.0",
          "state": {
            "_model_module": "@jupyter-widgets/controls",
            "_model_module_version": "1.5.0",
            "_model_name": "DescriptionStyleModel",
            "_view_count": null,
            "_view_module": "@jupyter-widgets/base",
            "_view_module_version": "1.2.0",
            "_view_name": "StyleView",
            "description_width": ""
          }
        },
        "5b335f9e5e584171a1293ae0879632b8": {
          "model_module": "@jupyter-widgets/base",
          "model_name": "LayoutModel",
          "model_module_version": "1.2.0",
          "state": {
            "_model_module": "@jupyter-widgets/base",
            "_model_module_version": "1.2.0",
            "_model_name": "LayoutModel",
            "_view_count": null,
            "_view_module": "@jupyter-widgets/base",
            "_view_module_version": "1.2.0",
            "_view_name": "LayoutView",
            "align_content": null,
            "align_items": null,
            "align_self": null,
            "border": null,
            "bottom": null,
            "display": null,
            "flex": null,
            "flex_flow": null,
            "grid_area": null,
            "grid_auto_columns": null,
            "grid_auto_flow": null,
            "grid_auto_rows": null,
            "grid_column": null,
            "grid_gap": null,
            "grid_row": null,
            "grid_template_areas": null,
            "grid_template_columns": null,
            "grid_template_rows": null,
            "height": null,
            "justify_content": null,
            "justify_items": null,
            "left": null,
            "margin": null,
            "max_height": null,
            "max_width": null,
            "min_height": null,
            "min_width": null,
            "object_fit": null,
            "object_position": null,
            "order": null,
            "overflow": null,
            "overflow_x": null,
            "overflow_y": null,
            "padding": null,
            "right": null,
            "top": null,
            "visibility": null,
            "width": null
          }
        },
        "2072ececa9d14b7da9ab7200a5e16a7a": {
          "model_module": "@jupyter-widgets/controls",
          "model_name": "ProgressStyleModel",
          "model_module_version": "1.5.0",
          "state": {
            "_model_module": "@jupyter-widgets/controls",
            "_model_module_version": "1.5.0",
            "_model_name": "ProgressStyleModel",
            "_view_count": null,
            "_view_module": "@jupyter-widgets/base",
            "_view_module_version": "1.2.0",
            "_view_name": "StyleView",
            "bar_color": null,
            "description_width": ""
          }
        },
        "b84353c6966a48e08ddfd02e57344cd6": {
          "model_module": "@jupyter-widgets/base",
          "model_name": "LayoutModel",
          "model_module_version": "1.2.0",
          "state": {
            "_model_module": "@jupyter-widgets/base",
            "_model_module_version": "1.2.0",
            "_model_name": "LayoutModel",
            "_view_count": null,
            "_view_module": "@jupyter-widgets/base",
            "_view_module_version": "1.2.0",
            "_view_name": "LayoutView",
            "align_content": null,
            "align_items": null,
            "align_self": null,
            "border": null,
            "bottom": null,
            "display": null,
            "flex": null,
            "flex_flow": null,
            "grid_area": null,
            "grid_auto_columns": null,
            "grid_auto_flow": null,
            "grid_auto_rows": null,
            "grid_column": null,
            "grid_gap": null,
            "grid_row": null,
            "grid_template_areas": null,
            "grid_template_columns": null,
            "grid_template_rows": null,
            "height": null,
            "justify_content": null,
            "justify_items": null,
            "left": null,
            "margin": null,
            "max_height": null,
            "max_width": null,
            "min_height": null,
            "min_width": null,
            "object_fit": null,
            "object_position": null,
            "order": null,
            "overflow": null,
            "overflow_x": null,
            "overflow_y": null,
            "padding": null,
            "right": null,
            "top": null,
            "visibility": null,
            "width": null
          }
        },
        "7a4d78ad14eb45458c68c007eaf9f8de": {
          "model_module": "@jupyter-widgets/controls",
          "model_name": "DescriptionStyleModel",
          "model_module_version": "1.5.0",
          "state": {
            "_model_module": "@jupyter-widgets/controls",
            "_model_module_version": "1.5.0",
            "_model_name": "DescriptionStyleModel",
            "_view_count": null,
            "_view_module": "@jupyter-widgets/base",
            "_view_module_version": "1.2.0",
            "_view_name": "StyleView",
            "description_width": ""
          }
        },
        "3c6c39a2d5954f0489ccd42e6837b427": {
          "model_module": "@jupyter-widgets/controls",
          "model_name": "HBoxModel",
          "model_module_version": "1.5.0",
          "state": {
            "_dom_classes": [],
            "_model_module": "@jupyter-widgets/controls",
            "_model_module_version": "1.5.0",
            "_model_name": "HBoxModel",
            "_view_count": null,
            "_view_module": "@jupyter-widgets/controls",
            "_view_module_version": "1.5.0",
            "_view_name": "HBoxView",
            "box_style": "",
            "children": [
              "IPY_MODEL_e4a11ad598a848c789a0c6f71175309e",
              "IPY_MODEL_607a505c31784ee4b061102754711f2f",
              "IPY_MODEL_5715ef420da043af8c0800d63ffa7a0b"
            ],
            "layout": "IPY_MODEL_3985b0af4d3a4394ab22633aac4eaf86"
          }
        },
        "e4a11ad598a848c789a0c6f71175309e": {
          "model_module": "@jupyter-widgets/controls",
          "model_name": "HTMLModel",
          "model_module_version": "1.5.0",
          "state": {
            "_dom_classes": [],
            "_model_module": "@jupyter-widgets/controls",
            "_model_module_version": "1.5.0",
            "_model_name": "HTMLModel",
            "_view_count": null,
            "_view_module": "@jupyter-widgets/controls",
            "_view_module_version": "1.5.0",
            "_view_name": "HTMLView",
            "description": "",
            "description_tooltip": null,
            "layout": "IPY_MODEL_a2b51d66fb214a64adffd9248525b679",
            "placeholder": "​",
            "style": "IPY_MODEL_02b10ed1c119492385dc9b6e715d63ea",
            "value": "Downloading: 100%"
          }
        },
        "607a505c31784ee4b061102754711f2f": {
          "model_module": "@jupyter-widgets/controls",
          "model_name": "FloatProgressModel",
          "model_module_version": "1.5.0",
          "state": {
            "_dom_classes": [],
            "_model_module": "@jupyter-widgets/controls",
            "_model_module_version": "1.5.0",
            "_model_name": "FloatProgressModel",
            "_view_count": null,
            "_view_module": "@jupyter-widgets/controls",
            "_view_module_version": "1.5.0",
            "_view_name": "ProgressView",
            "bar_style": "success",
            "description": "",
            "description_tooltip": null,
            "layout": "IPY_MODEL_bb2af3535bf74ee9b862d0bcdfeb0ff8",
            "max": 435779157,
            "min": 0,
            "orientation": "horizontal",
            "style": "IPY_MODEL_d2dbd462ec244a6fb24c50025fd4a03b",
            "value": 435779157
          }
        },
        "5715ef420da043af8c0800d63ffa7a0b": {
          "model_module": "@jupyter-widgets/controls",
          "model_name": "HTMLModel",
          "model_module_version": "1.5.0",
          "state": {
            "_dom_classes": [],
            "_model_module": "@jupyter-widgets/controls",
            "_model_module_version": "1.5.0",
            "_model_name": "HTMLModel",
            "_view_count": null,
            "_view_module": "@jupyter-widgets/controls",
            "_view_module_version": "1.5.0",
            "_view_name": "HTMLView",
            "description": "",
            "description_tooltip": null,
            "layout": "IPY_MODEL_b6b795301f314e2c8992996241c6f726",
            "placeholder": "​",
            "style": "IPY_MODEL_0af25637470b41cf83f13e2549a8130d",
            "value": " 416M/416M [00:07&lt;00:00, 59.0MB/s]"
          }
        },
        "3985b0af4d3a4394ab22633aac4eaf86": {
          "model_module": "@jupyter-widgets/base",
          "model_name": "LayoutModel",
          "model_module_version": "1.2.0",
          "state": {
            "_model_module": "@jupyter-widgets/base",
            "_model_module_version": "1.2.0",
            "_model_name": "LayoutModel",
            "_view_count": null,
            "_view_module": "@jupyter-widgets/base",
            "_view_module_version": "1.2.0",
            "_view_name": "LayoutView",
            "align_content": null,
            "align_items": null,
            "align_self": null,
            "border": null,
            "bottom": null,
            "display": null,
            "flex": null,
            "flex_flow": null,
            "grid_area": null,
            "grid_auto_columns": null,
            "grid_auto_flow": null,
            "grid_auto_rows": null,
            "grid_column": null,
            "grid_gap": null,
            "grid_row": null,
            "grid_template_areas": null,
            "grid_template_columns": null,
            "grid_template_rows": null,
            "height": null,
            "justify_content": null,
            "justify_items": null,
            "left": null,
            "margin": null,
            "max_height": null,
            "max_width": null,
            "min_height": null,
            "min_width": null,
            "object_fit": null,
            "object_position": null,
            "order": null,
            "overflow": null,
            "overflow_x": null,
            "overflow_y": null,
            "padding": null,
            "right": null,
            "top": null,
            "visibility": null,
            "width": null
          }
        },
        "a2b51d66fb214a64adffd9248525b679": {
          "model_module": "@jupyter-widgets/base",
          "model_name": "LayoutModel",
          "model_module_version": "1.2.0",
          "state": {
            "_model_module": "@jupyter-widgets/base",
            "_model_module_version": "1.2.0",
            "_model_name": "LayoutModel",
            "_view_count": null,
            "_view_module": "@jupyter-widgets/base",
            "_view_module_version": "1.2.0",
            "_view_name": "LayoutView",
            "align_content": null,
            "align_items": null,
            "align_self": null,
            "border": null,
            "bottom": null,
            "display": null,
            "flex": null,
            "flex_flow": null,
            "grid_area": null,
            "grid_auto_columns": null,
            "grid_auto_flow": null,
            "grid_auto_rows": null,
            "grid_column": null,
            "grid_gap": null,
            "grid_row": null,
            "grid_template_areas": null,
            "grid_template_columns": null,
            "grid_template_rows": null,
            "height": null,
            "justify_content": null,
            "justify_items": null,
            "left": null,
            "margin": null,
            "max_height": null,
            "max_width": null,
            "min_height": null,
            "min_width": null,
            "object_fit": null,
            "object_position": null,
            "order": null,
            "overflow": null,
            "overflow_x": null,
            "overflow_y": null,
            "padding": null,
            "right": null,
            "top": null,
            "visibility": null,
            "width": null
          }
        },
        "02b10ed1c119492385dc9b6e715d63ea": {
          "model_module": "@jupyter-widgets/controls",
          "model_name": "DescriptionStyleModel",
          "model_module_version": "1.5.0",
          "state": {
            "_model_module": "@jupyter-widgets/controls",
            "_model_module_version": "1.5.0",
            "_model_name": "DescriptionStyleModel",
            "_view_count": null,
            "_view_module": "@jupyter-widgets/base",
            "_view_module_version": "1.2.0",
            "_view_name": "StyleView",
            "description_width": ""
          }
        },
        "bb2af3535bf74ee9b862d0bcdfeb0ff8": {
          "model_module": "@jupyter-widgets/base",
          "model_name": "LayoutModel",
          "model_module_version": "1.2.0",
          "state": {
            "_model_module": "@jupyter-widgets/base",
            "_model_module_version": "1.2.0",
            "_model_name": "LayoutModel",
            "_view_count": null,
            "_view_module": "@jupyter-widgets/base",
            "_view_module_version": "1.2.0",
            "_view_name": "LayoutView",
            "align_content": null,
            "align_items": null,
            "align_self": null,
            "border": null,
            "bottom": null,
            "display": null,
            "flex": null,
            "flex_flow": null,
            "grid_area": null,
            "grid_auto_columns": null,
            "grid_auto_flow": null,
            "grid_auto_rows": null,
            "grid_column": null,
            "grid_gap": null,
            "grid_row": null,
            "grid_template_areas": null,
            "grid_template_columns": null,
            "grid_template_rows": null,
            "height": null,
            "justify_content": null,
            "justify_items": null,
            "left": null,
            "margin": null,
            "max_height": null,
            "max_width": null,
            "min_height": null,
            "min_width": null,
            "object_fit": null,
            "object_position": null,
            "order": null,
            "overflow": null,
            "overflow_x": null,
            "overflow_y": null,
            "padding": null,
            "right": null,
            "top": null,
            "visibility": null,
            "width": null
          }
        },
        "d2dbd462ec244a6fb24c50025fd4a03b": {
          "model_module": "@jupyter-widgets/controls",
          "model_name": "ProgressStyleModel",
          "model_module_version": "1.5.0",
          "state": {
            "_model_module": "@jupyter-widgets/controls",
            "_model_module_version": "1.5.0",
            "_model_name": "ProgressStyleModel",
            "_view_count": null,
            "_view_module": "@jupyter-widgets/base",
            "_view_module_version": "1.2.0",
            "_view_name": "StyleView",
            "bar_color": null,
            "description_width": ""
          }
        },
        "b6b795301f314e2c8992996241c6f726": {
          "model_module": "@jupyter-widgets/base",
          "model_name": "LayoutModel",
          "model_module_version": "1.2.0",
          "state": {
            "_model_module": "@jupyter-widgets/base",
            "_model_module_version": "1.2.0",
            "_model_name": "LayoutModel",
            "_view_count": null,
            "_view_module": "@jupyter-widgets/base",
            "_view_module_version": "1.2.0",
            "_view_name": "LayoutView",
            "align_content": null,
            "align_items": null,
            "align_self": null,
            "border": null,
            "bottom": null,
            "display": null,
            "flex": null,
            "flex_flow": null,
            "grid_area": null,
            "grid_auto_columns": null,
            "grid_auto_flow": null,
            "grid_auto_rows": null,
            "grid_column": null,
            "grid_gap": null,
            "grid_row": null,
            "grid_template_areas": null,
            "grid_template_columns": null,
            "grid_template_rows": null,
            "height": null,
            "justify_content": null,
            "justify_items": null,
            "left": null,
            "margin": null,
            "max_height": null,
            "max_width": null,
            "min_height": null,
            "min_width": null,
            "object_fit": null,
            "object_position": null,
            "order": null,
            "overflow": null,
            "overflow_x": null,
            "overflow_y": null,
            "padding": null,
            "right": null,
            "top": null,
            "visibility": null,
            "width": null
          }
        },
        "0af25637470b41cf83f13e2549a8130d": {
          "model_module": "@jupyter-widgets/controls",
          "model_name": "DescriptionStyleModel",
          "model_module_version": "1.5.0",
          "state": {
            "_model_module": "@jupyter-widgets/controls",
            "_model_module_version": "1.5.0",
            "_model_name": "DescriptionStyleModel",
            "_view_count": null,
            "_view_module": "@jupyter-widgets/base",
            "_view_module_version": "1.2.0",
            "_view_name": "StyleView",
            "description_width": ""
          }
        }
      }
    }
  },
  "cells": [
    {
      "cell_type": "markdown",
      "source": [
        "##Title : Sentiment Classification using BERT\n",
        "##Goal: The objective of this project is predict the sentiment given by the people on Google Play as review.\n",
        "##Dataset: Google Play Review Dataset\n",
        "####Team 41\n",
        "####Name: Padmaja Maisnam\n",
        "####USN: 1CR18CS118"
      ],
      "metadata": {
        "id": "TnxGC-v_2pKA"
      }
    },
    {
      "cell_type": "markdown",
      "source": [
        "## 1. Import Libraries and set the intial variables"
      ],
      "metadata": {
        "id": "7ofve90C3iDj"
      }
    },
    {
      "cell_type": "code",
      "execution_count": 1,
      "metadata": {
        "id": "gnb1E13YlpZK"
      },
      "outputs": [],
      "source": [
        "!pip install -q -U watermark"
      ]
    },
    {
      "cell_type": "code",
      "source": [
        "!pip install -qq transformers"
      ],
      "metadata": {
        "colab": {
          "base_uri": "https://localhost:8080/"
        },
        "id": "z-7CYyNlEbWS",
        "outputId": "54f1f9d8-a305-4ae0-ae9b-c9c059e67150"
      },
      "execution_count": 2,
      "outputs": [
        {
          "output_type": "stream",
          "name": "stdout",
          "text": [
            "\u001b[K     |████████████████████████████████| 4.4 MB 36.6 MB/s \n",
            "\u001b[K     |████████████████████████████████| 101 kB 10.5 MB/s \n",
            "\u001b[K     |████████████████████████████████| 596 kB 61.0 MB/s \n",
            "\u001b[K     |████████████████████████████████| 6.6 MB 62.4 MB/s \n",
            "\u001b[?25h"
          ]
        }
      ]
    },
    {
      "cell_type": "code",
      "source": [
        "%reload_ext watermark\n",
        "%watermark -v -p numpy,pandas,torch,transformers"
      ],
      "metadata": {
        "colab": {
          "base_uri": "https://localhost:8080/"
        },
        "id": "DoLhu_p5Ec5u",
        "outputId": "b24c6e0b-e0bc-4064-a9eb-b7a4dae036dd"
      },
      "execution_count": 3,
      "outputs": [
        {
          "output_type": "stream",
          "name": "stdout",
          "text": [
            "Python implementation: CPython\n",
            "Python version       : 3.7.13\n",
            "IPython version      : 5.5.0\n",
            "\n",
            "numpy       : 1.21.6\n",
            "pandas      : 1.3.5\n",
            "torch       : 1.11.0+cu113\n",
            "transformers: 4.20.1\n",
            "\n"
          ]
        }
      ]
    },
    {
      "cell_type": "code",
      "source": [
        "#@title Setup & Config\n",
        "import transformers\n",
        "from transformers import BertModel, BertTokenizer, AdamW, get_linear_schedule_with_warmup\n",
        "import torch\n",
        "\n",
        "import numpy as np\n",
        "import pandas as pd\n",
        "import seaborn as sns\n",
        "from pylab import rcParams\n",
        "import matplotlib.pyplot as plt\n",
        "from matplotlib import rc\n",
        "from sklearn.model_selection import train_test_split\n",
        "from sklearn.metrics import confusion_matrix, classification_report\n",
        "from collections import defaultdict\n",
        "from textwrap import wrap\n",
        "\n",
        "from torch import nn, optim\n",
        "from torch.utils.data import Dataset, DataLoader\n",
        "import torch.nn.functional as F\n",
        "\n",
        "%matplotlib inline\n",
        "%config InlineBackend.figure_format='retina'\n",
        "\n",
        "sns.set(style='whitegrid', palette='muted', font_scale=1.2)\n",
        "\n",
        "HAPPY_COLORS_PALETTE = [\"#01BEFE\", \"#FFDD00\", \"#FF7D00\", \"#FF006D\", \"#ADFF02\", \"#8F00FF\"]\n",
        "\n",
        "sns.set_palette(sns.color_palette(HAPPY_COLORS_PALETTE))\n",
        "\n",
        "rcParams['figure.figsize'] = 12, 8\n",
        "\n",
        "RANDOM_SEED = 42\n",
        "np.random.seed(RANDOM_SEED)\n",
        "torch.manual_seed(RANDOM_SEED)\n"
      ],
      "metadata": {
        "id": "zoTYChZ_nB6W",
        "colab": {
          "base_uri": "https://localhost:8080/"
        },
        "outputId": "82217e4c-e750-47d2-c318-0662b1422d41"
      },
      "execution_count": 4,
      "outputs": [
        {
          "output_type": "execute_result",
          "data": {
            "text/plain": [
              "<torch._C.Generator at 0x7fcfc25355f0>"
            ]
          },
          "metadata": {},
          "execution_count": 4
        }
      ]
    },
    {
      "cell_type": "markdown",
      "source": [
        " ### 2. Set GPU"
      ],
      "metadata": {
        "id": "U_9YtR4l3xr0"
      }
    },
    {
      "cell_type": "code",
      "source": [
        "device = torch.device(\"cuda:0\" if torch.cuda.is_available() else \"cpu\")\n",
        "device"
      ],
      "metadata": {
        "colab": {
          "base_uri": "https://localhost:8080/"
        },
        "id": "KZNNu_MtoXaz",
        "outputId": "f99be91f-ad42-48dd-9681-1df40fab6e33"
      },
      "execution_count": 5,
      "outputs": [
        {
          "output_type": "execute_result",
          "data": {
            "text/plain": [
              "device(type='cuda', index=0)"
            ]
          },
          "metadata": {},
          "execution_count": 5
        }
      ]
    },
    {
      "cell_type": "markdown",
      "source": [
        "###3. Load the data"
      ],
      "metadata": {
        "id": "CDhm8Pu4386Z"
      }
    },
    {
      "cell_type": "code",
      "source": [
        "df = pd.read_csv(\"reviews.csv\")"
      ],
      "metadata": {
        "id": "_45XTajHFA0E"
      },
      "execution_count": 7,
      "outputs": []
    },
    {
      "cell_type": "code",
      "source": [
        "# Look at the data \n",
        "# Only the first five will be shown\n",
        "df.head()"
      ],
      "metadata": {
        "colab": {
          "base_uri": "https://localhost:8080/",
          "height": 337
        },
        "id": "VVVs1EnrtGaN",
        "outputId": "22b09c07-fa0f-4ff7-d02a-525d13ad05af"
      },
      "execution_count": 8,
      "outputs": [
        {
          "output_type": "execute_result",
          "data": {
            "text/plain": [
              "           userName                                          userImage  \\\n",
              "0     Andrew Thomas  https://lh3.googleusercontent.com/a-/AOh14GiHd...   \n",
              "1      Craig Haines  https://lh3.googleusercontent.com/-hoe0kwSJgPQ...   \n",
              "2     steven adkins  https://lh3.googleusercontent.com/a-/AOh14GiXw...   \n",
              "3  Lars Panzerbjørn  https://lh3.googleusercontent.com/a-/AOh14Gg-h...   \n",
              "4     Scott Prewitt  https://lh3.googleusercontent.com/-K-X1-YsVd6U...   \n",
              "\n",
              "                                             content  score  thumbsUpCount  \\\n",
              "0  Update: After getting a response from the deve...      1             21   \n",
              "1  Used it for a fair amount of time without any ...      1             11   \n",
              "2  Your app sucks now!!!!! Used to be good but no...      1             17   \n",
              "3  It seems OK, but very basic. Recurring tasks n...      1            192   \n",
              "4  Absolutely worthless. This app runs a prohibit...      1             42   \n",
              "\n",
              "  reviewCreatedVersion                   at  \\\n",
              "0             4.17.0.3  2020-04-05 22:25:57   \n",
              "1             4.17.0.3  2020-04-04 13:40:01   \n",
              "2             4.17.0.3  2020-04-01 16:18:13   \n",
              "3             4.17.0.2  2020-03-12 08:17:34   \n",
              "4             4.17.0.2  2020-03-14 17:41:01   \n",
              "\n",
              "                                        replyContent            repliedAt  \\\n",
              "0  According to our TOS, and the term you have ag...  2020-04-05 15:10:24   \n",
              "1  It sounds like you logged in with a different ...  2020-04-05 15:11:35   \n",
              "2  This sounds odd! We are not aware of any issue...  2020-04-02 16:05:56   \n",
              "3  We do offer this option as part of the Advance...  2020-03-15 06:20:13   \n",
              "4  We're sorry you feel this way! 90% of the app ...  2020-03-15 23:45:51   \n",
              "\n",
              "       sortOrder      appId  \n",
              "0  most_relevant  com.anydo  \n",
              "1  most_relevant  com.anydo  \n",
              "2  most_relevant  com.anydo  \n",
              "3  most_relevant  com.anydo  \n",
              "4  most_relevant  com.anydo  "
            ],
            "text/html": [
              "\n",
              "  <div id=\"df-fd277154-d84f-4679-bbe9-c0e24efeeaf8\">\n",
              "    <div class=\"colab-df-container\">\n",
              "      <div>\n",
              "<style scoped>\n",
              "    .dataframe tbody tr th:only-of-type {\n",
              "        vertical-align: middle;\n",
              "    }\n",
              "\n",
              "    .dataframe tbody tr th {\n",
              "        vertical-align: top;\n",
              "    }\n",
              "\n",
              "    .dataframe thead th {\n",
              "        text-align: right;\n",
              "    }\n",
              "</style>\n",
              "<table border=\"1\" class=\"dataframe\">\n",
              "  <thead>\n",
              "    <tr style=\"text-align: right;\">\n",
              "      <th></th>\n",
              "      <th>userName</th>\n",
              "      <th>userImage</th>\n",
              "      <th>content</th>\n",
              "      <th>score</th>\n",
              "      <th>thumbsUpCount</th>\n",
              "      <th>reviewCreatedVersion</th>\n",
              "      <th>at</th>\n",
              "      <th>replyContent</th>\n",
              "      <th>repliedAt</th>\n",
              "      <th>sortOrder</th>\n",
              "      <th>appId</th>\n",
              "    </tr>\n",
              "  </thead>\n",
              "  <tbody>\n",
              "    <tr>\n",
              "      <th>0</th>\n",
              "      <td>Andrew Thomas</td>\n",
              "      <td>https://lh3.googleusercontent.com/a-/AOh14GiHd...</td>\n",
              "      <td>Update: After getting a response from the deve...</td>\n",
              "      <td>1</td>\n",
              "      <td>21</td>\n",
              "      <td>4.17.0.3</td>\n",
              "      <td>2020-04-05 22:25:57</td>\n",
              "      <td>According to our TOS, and the term you have ag...</td>\n",
              "      <td>2020-04-05 15:10:24</td>\n",
              "      <td>most_relevant</td>\n",
              "      <td>com.anydo</td>\n",
              "    </tr>\n",
              "    <tr>\n",
              "      <th>1</th>\n",
              "      <td>Craig Haines</td>\n",
              "      <td>https://lh3.googleusercontent.com/-hoe0kwSJgPQ...</td>\n",
              "      <td>Used it for a fair amount of time without any ...</td>\n",
              "      <td>1</td>\n",
              "      <td>11</td>\n",
              "      <td>4.17.0.3</td>\n",
              "      <td>2020-04-04 13:40:01</td>\n",
              "      <td>It sounds like you logged in with a different ...</td>\n",
              "      <td>2020-04-05 15:11:35</td>\n",
              "      <td>most_relevant</td>\n",
              "      <td>com.anydo</td>\n",
              "    </tr>\n",
              "    <tr>\n",
              "      <th>2</th>\n",
              "      <td>steven adkins</td>\n",
              "      <td>https://lh3.googleusercontent.com/a-/AOh14GiXw...</td>\n",
              "      <td>Your app sucks now!!!!! Used to be good but no...</td>\n",
              "      <td>1</td>\n",
              "      <td>17</td>\n",
              "      <td>4.17.0.3</td>\n",
              "      <td>2020-04-01 16:18:13</td>\n",
              "      <td>This sounds odd! We are not aware of any issue...</td>\n",
              "      <td>2020-04-02 16:05:56</td>\n",
              "      <td>most_relevant</td>\n",
              "      <td>com.anydo</td>\n",
              "    </tr>\n",
              "    <tr>\n",
              "      <th>3</th>\n",
              "      <td>Lars Panzerbjørn</td>\n",
              "      <td>https://lh3.googleusercontent.com/a-/AOh14Gg-h...</td>\n",
              "      <td>It seems OK, but very basic. Recurring tasks n...</td>\n",
              "      <td>1</td>\n",
              "      <td>192</td>\n",
              "      <td>4.17.0.2</td>\n",
              "      <td>2020-03-12 08:17:34</td>\n",
              "      <td>We do offer this option as part of the Advance...</td>\n",
              "      <td>2020-03-15 06:20:13</td>\n",
              "      <td>most_relevant</td>\n",
              "      <td>com.anydo</td>\n",
              "    </tr>\n",
              "    <tr>\n",
              "      <th>4</th>\n",
              "      <td>Scott Prewitt</td>\n",
              "      <td>https://lh3.googleusercontent.com/-K-X1-YsVd6U...</td>\n",
              "      <td>Absolutely worthless. This app runs a prohibit...</td>\n",
              "      <td>1</td>\n",
              "      <td>42</td>\n",
              "      <td>4.17.0.2</td>\n",
              "      <td>2020-03-14 17:41:01</td>\n",
              "      <td>We're sorry you feel this way! 90% of the app ...</td>\n",
              "      <td>2020-03-15 23:45:51</td>\n",
              "      <td>most_relevant</td>\n",
              "      <td>com.anydo</td>\n",
              "    </tr>\n",
              "  </tbody>\n",
              "</table>\n",
              "</div>\n",
              "      <button class=\"colab-df-convert\" onclick=\"convertToInteractive('df-fd277154-d84f-4679-bbe9-c0e24efeeaf8')\"\n",
              "              title=\"Convert this dataframe to an interactive table.\"\n",
              "              style=\"display:none;\">\n",
              "        \n",
              "  <svg xmlns=\"http://www.w3.org/2000/svg\" height=\"24px\"viewBox=\"0 0 24 24\"\n",
              "       width=\"24px\">\n",
              "    <path d=\"M0 0h24v24H0V0z\" fill=\"none\"/>\n",
              "    <path d=\"M18.56 5.44l.94 2.06.94-2.06 2.06-.94-2.06-.94-.94-2.06-.94 2.06-2.06.94zm-11 1L8.5 8.5l.94-2.06 2.06-.94-2.06-.94L8.5 2.5l-.94 2.06-2.06.94zm10 10l.94 2.06.94-2.06 2.06-.94-2.06-.94-.94-2.06-.94 2.06-2.06.94z\"/><path d=\"M17.41 7.96l-1.37-1.37c-.4-.4-.92-.59-1.43-.59-.52 0-1.04.2-1.43.59L10.3 9.45l-7.72 7.72c-.78.78-.78 2.05 0 2.83L4 21.41c.39.39.9.59 1.41.59.51 0 1.02-.2 1.41-.59l7.78-7.78 2.81-2.81c.8-.78.8-2.07 0-2.86zM5.41 20L4 18.59l7.72-7.72 1.47 1.35L5.41 20z\"/>\n",
              "  </svg>\n",
              "      </button>\n",
              "      \n",
              "  <style>\n",
              "    .colab-df-container {\n",
              "      display:flex;\n",
              "      flex-wrap:wrap;\n",
              "      gap: 12px;\n",
              "    }\n",
              "\n",
              "    .colab-df-convert {\n",
              "      background-color: #E8F0FE;\n",
              "      border: none;\n",
              "      border-radius: 50%;\n",
              "      cursor: pointer;\n",
              "      display: none;\n",
              "      fill: #1967D2;\n",
              "      height: 32px;\n",
              "      padding: 0 0 0 0;\n",
              "      width: 32px;\n",
              "    }\n",
              "\n",
              "    .colab-df-convert:hover {\n",
              "      background-color: #E2EBFA;\n",
              "      box-shadow: 0px 1px 2px rgba(60, 64, 67, 0.3), 0px 1px 3px 1px rgba(60, 64, 67, 0.15);\n",
              "      fill: #174EA6;\n",
              "    }\n",
              "\n",
              "    [theme=dark] .colab-df-convert {\n",
              "      background-color: #3B4455;\n",
              "      fill: #D2E3FC;\n",
              "    }\n",
              "\n",
              "    [theme=dark] .colab-df-convert:hover {\n",
              "      background-color: #434B5C;\n",
              "      box-shadow: 0px 1px 3px 1px rgba(0, 0, 0, 0.15);\n",
              "      filter: drop-shadow(0px 1px 2px rgba(0, 0, 0, 0.3));\n",
              "      fill: #FFFFFF;\n",
              "    }\n",
              "  </style>\n",
              "\n",
              "      <script>\n",
              "        const buttonEl =\n",
              "          document.querySelector('#df-fd277154-d84f-4679-bbe9-c0e24efeeaf8 button.colab-df-convert');\n",
              "        buttonEl.style.display =\n",
              "          google.colab.kernel.accessAllowed ? 'block' : 'none';\n",
              "\n",
              "        async function convertToInteractive(key) {\n",
              "          const element = document.querySelector('#df-fd277154-d84f-4679-bbe9-c0e24efeeaf8');\n",
              "          const dataTable =\n",
              "            await google.colab.kernel.invokeFunction('convertToInteractive',\n",
              "                                                     [key], {});\n",
              "          if (!dataTable) return;\n",
              "\n",
              "          const docLinkHtml = 'Like what you see? Visit the ' +\n",
              "            '<a target=\"_blank\" href=https://colab.research.google.com/notebooks/data_table.ipynb>data table notebook</a>'\n",
              "            + ' to learn more about interactive tables.';\n",
              "          element.innerHTML = '';\n",
              "          dataTable['output_type'] = 'display_data';\n",
              "          await google.colab.output.renderOutput(dataTable, element);\n",
              "          const docLink = document.createElement('div');\n",
              "          docLink.innerHTML = docLinkHtml;\n",
              "          element.appendChild(docLink);\n",
              "        }\n",
              "      </script>\n",
              "    </div>\n",
              "  </div>\n",
              "  "
            ]
          },
          "metadata": {},
          "execution_count": 8
        }
      ]
    },
    {
      "cell_type": "code",
      "source": [
        "df.info()"
      ],
      "metadata": {
        "colab": {
          "base_uri": "https://localhost:8080/"
        },
        "id": "8sgGPaH8tcZd",
        "outputId": "a632f9db-1e77-4c68-a101-8bbed092f5be"
      },
      "execution_count": 9,
      "outputs": [
        {
          "output_type": "stream",
          "name": "stdout",
          "text": [
            "<class 'pandas.core.frame.DataFrame'>\n",
            "RangeIndex: 15746 entries, 0 to 15745\n",
            "Data columns (total 11 columns):\n",
            " #   Column                Non-Null Count  Dtype \n",
            "---  ------                --------------  ----- \n",
            " 0   userName              15746 non-null  object\n",
            " 1   userImage             15746 non-null  object\n",
            " 2   content               15746 non-null  object\n",
            " 3   score                 15746 non-null  int64 \n",
            " 4   thumbsUpCount         15746 non-null  int64 \n",
            " 5   reviewCreatedVersion  13533 non-null  object\n",
            " 6   at                    15746 non-null  object\n",
            " 7   replyContent          7367 non-null   object\n",
            " 8   repliedAt             7367 non-null   object\n",
            " 9   sortOrder             15746 non-null  object\n",
            " 10  appId                 15746 non-null  object\n",
            "dtypes: int64(2), object(9)\n",
            "memory usage: 1.3+ MB\n"
          ]
        }
      ]
    },
    {
      "cell_type": "markdown",
      "source": [
        "###There are missing values in some of the columns but content and score don't have a missing value. We can also look at the class balance.\n",
        "\n",
        "We will be alloting three classes:-\n",
        "*   Positive (Score: 4-5)\n",
        "*   Neutral (Score: 3)\n",
        "*   Negative (Score: 1-2)\n",
        "\n",
        "\n"
      ],
      "metadata": {
        "id": "WX4D030g41H6"
      }
    },
    {
      "cell_type": "code",
      "source": [
        "sns.countplot(df.score)\n",
        "plt.xlabel('review score');"
      ],
      "metadata": {
        "colab": {
          "base_uri": "https://localhost:8080/",
          "height": 561
        },
        "id": "xD4LkyiGtoSV",
        "outputId": "10b12cd5-bb72-4388-f631-3e0c762caedd"
      },
      "execution_count": 10,
      "outputs": [
        {
          "output_type": "stream",
          "name": "stderr",
          "text": [
            "/usr/local/lib/python3.7/dist-packages/seaborn/_decorators.py:43: FutureWarning: Pass the following variable as a keyword arg: x. From version 0.12, the only valid positional argument will be `data`, and passing other arguments without an explicit keyword will result in an error or misinterpretation.\n",
            "  FutureWarning\n"
          ]
        },
        {
          "output_type": "display_data",
          "data": {
            "text/plain": [
              "<Figure size 864x576 with 1 Axes>"
            ],
            "image/png": "[encoded data removed]"
          },
          "metadata": {
            "image/png": {
              "width": 745,
              "height": 489
            }
          }
        }
      ]
    },
    {
      "cell_type": "markdown",
      "source": [
        "####We can see that we have more positive classes than negative and low number of neutral class. I have kept neutral less to focus more on positive and negative classes. Let's allot classes based on scores now.\n",
        "\n",
        "*   0 - negative\n",
        "*   1 - neutral\n",
        "*   2 - positive\n",
        "\n",
        "\n"
      ],
      "metadata": {
        "id": "hS6XYAZD4nKj"
      }
    },
    {
      "cell_type": "markdown",
      "source": [
        ""
      ],
      "metadata": {
        "id": "QTnM-TUh5d-h"
      }
    },
    {
      "cell_type": "code",
      "source": [
        "def to_sentiment(rating):\n",
        "  rating = int(rating)\n",
        "  if rating <= 2:\n",
        "    return 0\n",
        "  elif rating == 3:\n",
        "    return 1\n",
        "  else: \n",
        "    return 2\n",
        "\n",
        "df['sentiment'] = df.score.apply(to_sentiment)"
      ],
      "metadata": {
        "id": "Wnd_oiTPt451"
      },
      "execution_count": 11,
      "outputs": []
    },
    {
      "cell_type": "code",
      "source": [
        "# Plot the distribution\n",
        "class_names = ['negative', 'neutral', 'positive']\n",
        "ax = sns.countplot(df.sentiment)\n",
        "plt.xlabel('review sentiment')\n",
        "ax.set_xticklabels(class_names)"
      ],
      "metadata": {
        "colab": {
          "base_uri": "https://localhost:8080/",
          "height": 578
        },
        "id": "b2QsiUiguFh-",
        "outputId": "5483bf23-848e-4159-85a8-3f22da00490b"
      },
      "execution_count": 12,
      "outputs": [
        {
          "output_type": "stream",
          "name": "stderr",
          "text": [
            "/usr/local/lib/python3.7/dist-packages/seaborn/_decorators.py:43: FutureWarning: Pass the following variable as a keyword arg: x. From version 0.12, the only valid positional argument will be `data`, and passing other arguments without an explicit keyword will result in an error or misinterpretation.\n",
            "  FutureWarning\n"
          ]
        },
        {
          "output_type": "execute_result",
          "data": {
            "text/plain": [
              "[Text(0, 0, 'negative'), Text(0, 0, 'neutral'), Text(0, 0, 'positive')]"
            ]
          },
          "metadata": {},
          "execution_count": 12
        },
        {
          "output_type": "display_data",
          "data": {
            "text/plain": [
              "<Figure size 864x576 with 1 Axes>"
            ],
            "image/png": "[encoded data removed]"
          },
          "metadata": {
            "image/png": {
              "width": 745,
              "height": 489
            }
          }
        }
      ]
    },
    {
      "cell_type": "markdown",
      "source": [
        "###4. Data Preprocessing\n",
        "Machine Learning models don’t work with raw text. You need to convert text to numerical representation. BERT requires even more attention when it comes to this representation.\n",
        "\n",
        "Here are the requirements:\n",
        "\n",
        "*  Add special tokens to separate sentences and do classification\n",
        "*  Pass sequences of constant length (introduce padding)\n",
        "*  Create array of 0s (pad token) and 1s (real token) called attention mask\n",
        "*  BERT offers a few model architectures and I will be using one of them combined with manual preprocessing. \n",
        "\n",
        "## BERT Tokenizer\n",
        "To feed our text to BERT, it must be split into tokens, and then these tokens must be mapped to their index in the tokenizer vocabulary.\n",
        "\n",
        "The tokenization must be performed by the tokenizer included with BERT--the below cell will download this for us. BERT uncased version used here.\n",
        "The tokenizer will break the sentence into words and give numerical values to each word."
      ],
      "metadata": {
        "id": "_pqUYjXS6Bmx"
      }
    },
    {
      "cell_type": "code",
      "source": [
        "# Set the model name\n",
        "# In BERT uncased, the text has been lowercased before WordPiece tokenization step while in BERT cased, the text is same as the input text (no changes).\n",
        "PRE_TRAINED_MODEL_NAME = 'bert-base-cased'"
      ],
      "metadata": {
        "id": "BwlD3tfvuOQx"
      },
      "execution_count": 13,
      "outputs": []
    },
    {
      "cell_type": "markdown",
      "source": [
        "###Special Tokens\n",
        "###[SEP]\n",
        "\n",
        "At the end of every sentence, we need to append the special [SEP] token.\n",
        "\n",
        "This token is an artifact of two-sentence tasks, where BERT is given two separate sentences and asked to determine something (e.g., can the answer to the question in sentence A be found in sentence B?).\n",
        "\n",
        "\n",
        "###[CLS]\n",
        "\n",
        "For classification tasks, we must prepend the special [CLS] token to the beginning of every sentence.\n",
        "\n",
        "This token has special significance. BERT consists of 12 Transformer layers. Each transformer takes in a list of token embeddings, and produces the same number of embeddings on the output (but with the feature values changed, of course!).\n",
        "\n",
        "![image.png](data:image/png;base64,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)\n",
        "\n",
        "On the output of the final (12th) transformer, only the first embedding (corresponding to the [CLS] token) is used by the classifier.\n",
        "\n",
        "\"The first token of every sequence is always a special classification token ([CLS]). The final hidden state corresponding to this token is used as the aggregate sequence representation for classification tasks.\" (from the BERT paper)\n",
        "\n",
        "You might think to try some pooling strategy over the final embeddings, but this isn't necessary. Because BERT is trained to only use this [CLS] token for classification, we know that the model has been motivated to encode everything it needs for the classification step into that single 768-value embedding vector. It's already done the pooling for us!\n",
        "\n",
        "###Sentence Length & Attention Mask\n",
        "The sentences in our dataset obviously have varying lengths, so how does BERT handle this?\n",
        "\n",
        "BERT has two constraints:\n",
        "\n",
        "All sentences must be padded or truncated to a single, fixed length.\n",
        "The maximum sentence length is 512 tokens.\n",
        "Padding is done with a special [PAD] token, which is at index 0 in the BERT vocabulary. The below illustration demonstrates padding out to a \"MAX_LEN\" of 8 tokens.\n",
        "\n",
        "![image.png](data:image/png;base64,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)"
      ],
      "metadata": {
        "id": "M7ohfF778jGd"
      }
    },
    {
      "cell_type": "markdown",
      "source": [
        "The \"Attention Mask\" is simply an array of 1s and 0s indicating which tokens are padding and which aren't. This mask tells the \"Self-Attention\" mechanism in BERT not to incorporate these PAD tokens into its interpretation of the sentence."
      ],
      "metadata": {
        "id": "-FkHbrGV9XRH"
      }
    },
    {
      "cell_type": "code",
      "source": [
        "# Load the BERT tokenizer.\n",
        "tokenizer = BertTokenizer.from_pretrained(PRE_TRAINED_MODEL_NAME)"
      ],
      "metadata": {
        "colab": {
          "base_uri": "https://localhost:8080/",
          "height": 113,
          "referenced_widgets": [
            "c5f80b586be44797b7efab866cb92544",
            "6984cb4c79734f1bb4287eaf52e256d8",
            "23b162c85a5b4bc1bdb3c1c910906035",
            "c6841db4f6fd4d2eb902024474c6f53a",
            "6a9bfe0cf8bd43349e8932bf8931f0eb",
            "4c2f46dc88a847e68aee477ffa634cc8",
            "02990b6624ff4c05a7ede770a8866a02",
            "17dd9115a3034093a6775c8ad4dd224c",
            "1d5a597953ab45669b2cc59f42d6aca2",
            "d5e55b8160ee4e0b94f1362f1062b840",
            "4581d8922e124299bf50ffe6d0caac65",
            "c2dc14f66efe4c38ab009d5357f76dba",
            "352938871a2d4cde8c322a0c6eef0ace",
            "0b7d40a1dbc647ddba96440995d63002",
            "63b4e666771e457a86e4cdc96f780139",
            "0a1116c91f474f7c8bff3440063c2c2c",
            "753f79e11c8e4d7e841eb9ad3414db2b",
            "9cb117522e8c42fa8c8d55adbce5789e",
            "146fa3e0b07f4cb2aa58e317a40a898d",
            "3d12cdf2622d4b73852546944a7fae9d",
            "1cfe7d277c194224898c808732f3abe7",
            "6824aa91306e414c88a728ccfaaf805e",
            "4fb87a5dbc104b1bbf2917c7f0f9fa58",
            "c20328eac7a141a6a25a9f90a1dad313",
            "82ce54c22ce44859b48f68a3ad7c4863",
            "b95a394331e64f92a3e248089eede41f",
            "b2dbea5b1bd5492ebf88edcc5de32bd9",
            "4275543233014abdb206792fb45264bf",
            "7c58b0b0bd6a48b0a5d5da6c911cb2e6",
            "5b335f9e5e584171a1293ae0879632b8",
            "2072ececa9d14b7da9ab7200a5e16a7a",
            "b84353c6966a48e08ddfd02e57344cd6",
            "7a4d78ad14eb45458c68c007eaf9f8de"
          ]
        },
        "id": "Q_H5-DfCF26u",
        "outputId": "b07e5f74-6e9c-4747-951a-d6e80816c2da"
      },
      "execution_count": 14,
      "outputs": [
        {
          "output_type": "display_data",
          "data": {
            "text/plain": [
              "Downloading:   0%|          | 0.00/208k [00:00<?, ?B/s]"
            ],
            "application/vnd.jupyter.widget-view+json": {
              "version_major": 2,
              "version_minor": 0,
              "model_id": "c5f80b586be44797b7efab866cb92544"
            }
          },
          "metadata": {}
        },
        {
          "output_type": "display_data",
          "data": {
            "text/plain": [
              "Downloading:   0%|          | 0.00/29.0 [00:00<?, ?B/s]"
            ],
            "application/vnd.jupyter.widget-view+json": {
              "version_major": 2,
              "version_minor": 0,
              "model_id": "c2dc14f66efe4c38ab009d5357f76dba"
            }
          },
          "metadata": {}
        },
        {
          "output_type": "display_data",
          "data": {
            "text/plain": [
              "Downloading:   0%|          | 0.00/570 [00:00<?, ?B/s]"
            ],
            "application/vnd.jupyter.widget-view+json": {
              "version_major": 2,
              "version_minor": 0,
              "model_id": "4fb87a5dbc104b1bbf2917c7f0f9fa58"
            }
          },
          "metadata": {}
        }
      ]
    },
    {
      "cell_type": "code",
      "source": [
        "sample_txt = 'When was I last outside? I am stuck at home for 2 weeks.'"
      ],
      "metadata": {
        "id": "Eo36_WYGF9oI"
      },
      "execution_count": 15,
      "outputs": []
    },
    {
      "cell_type": "code",
      "source": [
        "tokens = tokenizer.tokenize(sample_txt)\n",
        "token_ids = tokenizer.convert_tokens_to_ids(tokens)\n",
        "\n",
        "# Print the original sentence.\n",
        "print(f' Sentence: {sample_txt}')\n",
        "\n",
        "# Print the sentence split into tokens.\n",
        "print(f'   Tokens: {tokens}')\n",
        "\n",
        "# Print the sentence mapped to token ids.\n",
        "print(f'Token IDs: {token_ids}')"
      ],
      "metadata": {
        "colab": {
          "base_uri": "https://localhost:8080/"
        },
        "id": "A9X4kWYGF_RG",
        "outputId": "8d0d59f1-a0d2-4590-aa59-df71919ce6dd"
      },
      "execution_count": 16,
      "outputs": [
        {
          "output_type": "stream",
          "name": "stdout",
          "text": [
            " Sentence: When was I last outside? I am stuck at home for 2 weeks.\n",
            "   Tokens: ['When', 'was', 'I', 'last', 'outside', '?', 'I', 'am', 'stuck', 'at', 'home', 'for', '2', 'weeks', '.']\n",
            "Token IDs: [1332, 1108, 146, 1314, 1796, 136, 146, 1821, 5342, 1120, 1313, 1111, 123, 2277, 119]\n"
          ]
        }
      ]
    },
    {
      "cell_type": "code",
      "source": [
        "# Some of the common BERT speacial tokens\n",
        "print(tokenizer.sep_token, tokenizer.sep_token_id) # [SEP] token - marker for ending of a sentence \n",
        "print(tokenizer.cls_token, tokenizer.cls_token_id) # [CLS] token - start of each sentence, so BERT knows we’re doing classification\n",
        "print(tokenizer.pad_token, tokenizer.pad_token_id) # [PAD] token - special token for padding\n",
        "print(tokenizer.unk_token, tokenizer.unk_token_id) # [UNK] token - tokens not found in training set "
      ],
      "metadata": {
        "colab": {
          "base_uri": "https://localhost:8080/"
        },
        "id": "u5lA7-s-uU3p",
        "outputId": "1f7fbf26-0273-492a-fd1b-f3fc2ea2e767"
      },
      "execution_count": 17,
      "outputs": [
        {
          "output_type": "stream",
          "name": "stdout",
          "text": [
            "[SEP] 102\n",
            "[CLS] 101\n",
            "[PAD] 0\n",
            "[UNK] 100\n"
          ]
        }
      ]
    },
    {
      "cell_type": "markdown",
      "source": [
        "###BERT works with fixed-length sequences. use a simple strategy to choose the max length. Let’s store the token length of each review."
      ],
      "metadata": {
        "id": "e2vCOOHb6ePC"
      }
    },
    {
      "cell_type": "code",
      "source": [
        "    # `encode_plus` will:\n",
        "    #   (1) Tokenize the sentence.\n",
        "    #   (2) Prepend the `[CLS]` token to the start.\n",
        "    #   (3) Append the `[SEP]` token to the end.\n",
        "    #   (4) Map tokens to their IDs.\n",
        "    #   (5) Pad or truncate the sentence to `max_length`\n",
        "    #   (6) Create attention masks for [PAD] tokens.\n",
        "encoding = tokenizer.encode_plus(\n",
        "  sample_txt,  # Sentence to encode.\n",
        "  max_length=32,  # Pad & truncate all sentences.\n",
        "  add_special_tokens=True, # Add '[CLS]' and '[SEP]'\n",
        "  return_token_type_ids=False,  # Do not return the token ids\n",
        "  pad_to_max_length=True,   \n",
        "  return_attention_mask=True,  # Construct attn. masks.\n",
        "  return_tensors='pt',  # Return PyTorch tensors\n",
        ")\n",
        "\n",
        "encoding.keys()"
      ],
      "metadata": {
        "colab": {
          "base_uri": "https://localhost:8080/"
        },
        "id": "ZYKfrMrquqbS",
        "outputId": "4aea02aa-557b-4973-dc90-87edd4c262fd"
      },
      "execution_count": 18,
      "outputs": [
        {
          "output_type": "stream",
          "name": "stderr",
          "text": [
            "Truncation was not explicitly activated but `max_length` is provided a specific value, please use `truncation=True` to explicitly truncate examples to max length. Defaulting to 'longest_first' truncation strategy. If you encode pairs of sequences (GLUE-style) with the tokenizer you can select this strategy more precisely by providing a specific strategy to `truncation`.\n",
            "/usr/local/lib/python3.7/dist-packages/transformers/tokenization_utils_base.py:2307: FutureWarning: The `pad_to_max_length` argument is deprecated and will be removed in a future version, use `padding=True` or `padding='longest'` to pad to the longest sequence in the batch, or use `padding='max_length'` to pad to a max length. In this case, you can give a specific length with `max_length` (e.g. `max_length=45`) or leave max_length to None to pad to the maximal input size of the model (e.g. 512 for Bert).\n",
            "  FutureWarning,\n"
          ]
        },
        {
          "output_type": "execute_result",
          "data": {
            "text/plain": [
              "dict_keys(['input_ids', 'attention_mask'])"
            ]
          },
          "metadata": {},
          "execution_count": 18
        }
      ]
    },
    {
      "cell_type": "code",
      "source": [
        "print(len(encoding['input_ids'][0]))\n",
        "encoding['input_ids'][0]"
      ],
      "metadata": {
        "colab": {
          "base_uri": "https://localhost:8080/"
        },
        "id": "p__rX0cGu1ML",
        "outputId": "8d5ae1c2-bd2a-42dc-8b07-c12df261083c"
      },
      "execution_count": 19,
      "outputs": [
        {
          "output_type": "stream",
          "name": "stdout",
          "text": [
            "32\n"
          ]
        },
        {
          "output_type": "execute_result",
          "data": {
            "text/plain": [
              "tensor([ 101, 1332, 1108,  146, 1314, 1796,  136,  146, 1821, 5342, 1120, 1313,\n",
              "        1111,  123, 2277,  119,  102,    0,    0,    0,    0,    0,    0,    0,\n",
              "           0,    0,    0,    0,    0,    0,    0,    0])"
            ]
          },
          "metadata": {},
          "execution_count": 19
        }
      ]
    },
    {
      "cell_type": "code",
      "source": [
        "print(len(encoding['attention_mask'][0]))\n",
        "encoding['attention_mask']"
      ],
      "metadata": {
        "colab": {
          "base_uri": "https://localhost:8080/"
        },
        "id": "TUC_2wB_Ga2i",
        "outputId": "6ecb2eca-bdfd-40e7-d7a9-07088b191b7d"
      },
      "execution_count": 20,
      "outputs": [
        {
          "output_type": "stream",
          "name": "stdout",
          "text": [
            "32\n"
          ]
        },
        {
          "output_type": "execute_result",
          "data": {
            "text/plain": [
              "tensor([[1, 1, 1, 1, 1, 1, 1, 1, 1, 1, 1, 1, 1, 1, 1, 1, 1, 0, 0, 0, 0, 0, 0, 0,\n",
              "         0, 0, 0, 0, 0, 0, 0, 0]])"
            ]
          },
          "metadata": {},
          "execution_count": 20
        }
      ]
    },
    {
      "cell_type": "code",
      "source": [
        "tokenizer.convert_ids_to_tokens(encoding['input_ids'][0])"
      ],
      "metadata": {
        "colab": {
          "base_uri": "https://localhost:8080/"
        },
        "id": "HaVCdT3pGb4L",
        "outputId": "5334e2f2-6753-4128-a9ad-582fea83fc5d"
      },
      "execution_count": 21,
      "outputs": [
        {
          "output_type": "execute_result",
          "data": {
            "text/plain": [
              "['[CLS]',\n",
              " 'When',\n",
              " 'was',\n",
              " 'I',\n",
              " 'last',\n",
              " 'outside',\n",
              " '?',\n",
              " 'I',\n",
              " 'am',\n",
              " 'stuck',\n",
              " 'at',\n",
              " 'home',\n",
              " 'for',\n",
              " '2',\n",
              " 'weeks',\n",
              " '.',\n",
              " '[SEP]',\n",
              " '[PAD]',\n",
              " '[PAD]',\n",
              " '[PAD]',\n",
              " '[PAD]',\n",
              " '[PAD]',\n",
              " '[PAD]',\n",
              " '[PAD]',\n",
              " '[PAD]',\n",
              " '[PAD]',\n",
              " '[PAD]',\n",
              " '[PAD]',\n",
              " '[PAD]',\n",
              " '[PAD]',\n",
              " '[PAD]',\n",
              " '[PAD]']"
            ]
          },
          "metadata": {},
          "execution_count": 21
        }
      ]
    },
    {
      "cell_type": "code",
      "source": [
        "token_lens = []\n",
        "\n",
        "for txt in df.content:\n",
        "  tokens = tokenizer.encode(txt, max_length=512)\n",
        "  token_lens.append(len(tokens))"
      ],
      "metadata": {
        "id": "BAjXSLMaGhjH"
      },
      "execution_count": 22,
      "outputs": []
    },
    {
      "cell_type": "code",
      "source": [
        "sns.distplot(token_lens)\n",
        "plt.xlim([0, 256]);\n",
        "plt.xlabel('Token count');"
      ],
      "metadata": {
        "colab": {
          "base_uri": "https://localhost:8080/",
          "height": 561
        },
        "id": "o5_6TMeDGrP7",
        "outputId": "35037a10-0fa8-4876-b899-a3b472fdaf0f"
      },
      "execution_count": 23,
      "outputs": [
        {
          "output_type": "stream",
          "name": "stderr",
          "text": [
            "/usr/local/lib/python3.7/dist-packages/seaborn/distributions.py:2619: FutureWarning: `distplot` is a deprecated function and will be removed in a future version. Please adapt your code to use either `displot` (a figure-level function with similar flexibility) or `histplot` (an axes-level function for histograms).\n",
            "  warnings.warn(msg, FutureWarning)\n"
          ]
        },
        {
          "output_type": "display_data",
          "data": {
            "text/plain": [
              "<Figure size 864x576 with 1 Axes>"
            ],
            "image/png": "[encoded data removed]"
          },
          "metadata": {
            "image/png": {
              "width": 757,
              "height": 489
            }
          }
        }
      ]
    },
    {
      "cell_type": "markdown",
      "source": [
        "Most of the reviews seem to contain less than 120 tokens, but we’ll be on the safe side and choose a maximum length of 160."
      ],
      "metadata": {
        "id": "odkLQ_e6IboS"
      }
    },
    {
      "cell_type": "code",
      "source": [
        "MAX_LEN = 160"
      ],
      "metadata": {
        "id": "XmSiDZmUu6Ff"
      },
      "execution_count": 24,
      "outputs": []
    },
    {
      "cell_type": "markdown",
      "source": [
        "###Preparing Torch Dataset\n",
        "To enter data into a PyTorch, we need a more robust data generator class. We will return the review text as well to validate our predictions easily."
      ],
      "metadata": {
        "id": "X21w5_e463kB"
      }
    },
    {
      "cell_type": "code",
      "source": [
        "# It automatically converts NumPy arrays and Python numerical values into PyTorch Tensors.\n",
        "class GPReviewDataset(Dataset):\n",
        "    # Constructor Function \n",
        "    #taget - sentiment\n",
        "    def __init__(self, reviews, targets, tokenizer, max_len):\n",
        "        self.reviews = reviews\n",
        "        self.targets = targets\n",
        "        self.tokenizer = tokenizer\n",
        "        self.max_len = max_len\n",
        "    \n",
        "    # Length # return number of reviews\n",
        "    def __len__(self):\n",
        "        return len(self.reviews)\n",
        "    \n",
        "    # get item magic method\n",
        "    def __getitem__(self, item):\n",
        "        review = str(self.reviews[item])\n",
        "        target = self.targets[item]\n",
        "        \n",
        "        #encode_plus` will:\n",
        "        #    (1) Tokenize the sentence\n",
        "        #    (2) Add the `[CLS]` and `[SEP]` token to the start and end\n",
        "        #    (3) Truncate/Pad sentence to max length\n",
        "        #    (4) Map tokens to their IDs\n",
        "        #    (5) Create attention mask\n",
        "        #    (6) Return a dictionary of outputs\n",
        "        # Encoded format to be returned \n",
        "        encoding = self.tokenizer.encode_plus(\n",
        "            review,\n",
        "            add_special_tokens=True,\n",
        "            max_length=self.max_len,\n",
        "            return_token_type_ids=False,\n",
        "            pad_to_max_length=True,\n",
        "            return_attention_mask=True,\n",
        "            return_tensors='pt',\n",
        "        )\n",
        "        #dictionary\n",
        "        return {\n",
        "            'review_text': review,\n",
        "            # The predictions for this batch are a n-column ndarray . turn this\n",
        "            # in to a list.\n",
        "            'input_ids': encoding['input_ids'].flatten(),\n",
        "            'attention_mask': encoding['attention_mask'].flatten(),\n",
        "            'targets': torch.tensor(target, dtype=torch.long)\n",
        "        }"
      ],
      "metadata": {
        "id": "Y_nVOmnEvX9T"
      },
      "execution_count": 25,
      "outputs": []
    },
    {
      "cell_type": "markdown",
      "source": [
        "###Split the data"
      ],
      "metadata": {
        "id": "LRFZvT3v6-LM"
      }
    },
    {
      "cell_type": "code",
      "source": [
        "df_train, df_test = train_test_split(df, test_size=0.1, random_state=RANDOM_SEED)\n",
        "df_val, df_test = train_test_split(df_test, test_size=0.5, random_state=RANDOM_SEED)\n",
        "\n",
        "print(df_train.shape, df_val.shape, df_test.shape)"
      ],
      "metadata": {
        "colab": {
          "base_uri": "https://localhost:8080/"
        },
        "id": "KJDf2j9ivoBR",
        "outputId": "1cb67f52-cebf-4028-a9ba-7749bd354791"
      },
      "execution_count": 26,
      "outputs": [
        {
          "output_type": "stream",
          "name": "stdout",
          "text": [
            "(14171, 12) (787, 12) (788, 12)\n"
          ]
        }
      ]
    },
    {
      "cell_type": "markdown",
      "source": [
        "###Creating a dataloader to release data in batches."
      ],
      "metadata": {
        "id": "oqtD7Xo17MJv"
      }
    },
    {
      "cell_type": "code",
      "source": [
        "def create_data_loader(df, tokenizer, max_len, batch_size):\n",
        "  ds = GPReviewDataset(\n",
        "    reviews=df.content.to_numpy(),\n",
        "    targets=df.sentiment.to_numpy(),\n",
        "    tokenizer=tokenizer,\n",
        "    max_len=max_len\n",
        "  )\n",
        "\n",
        "  return DataLoader(\n",
        "    ds,\n",
        "    batch_size=batch_size,\n",
        "    num_workers=4\n",
        "  )"
      ],
      "metadata": {
        "id": "LdcyXeqZvw6a"
      },
      "execution_count": 27,
      "outputs": []
    },
    {
      "cell_type": "code",
      "source": [
        "# The DataLoader needs to know our batch size for training, so we specify it \n",
        "# here. For fine-tuning BERT on a specific task, the authors recommend a batch \n",
        "# size of 16 or 32.\n",
        "BATCH_SIZE = 16\n",
        "\n",
        "# Create the DataLoaders for our training and validation sets and testing.\n",
        "train_data_loader = create_data_loader(df_train, tokenizer, MAX_LEN, BATCH_SIZE)\n",
        "val_data_loader = create_data_loader(df_val, tokenizer, MAX_LEN, BATCH_SIZE)\n",
        "test_data_loader = create_data_loader(df_test, tokenizer, MAX_LEN, BATCH_SIZE)"
      ],
      "metadata": {
        "id": "m3QSFWanwAOl",
        "colab": {
          "base_uri": "https://localhost:8080/"
        },
        "outputId": "23a735ef-2c6d-43ff-eede-8481edb05a91"
      },
      "execution_count": 28,
      "outputs": [
        {
          "output_type": "stream",
          "name": "stderr",
          "text": [
            "/usr/local/lib/python3.7/dist-packages/torch/utils/data/dataloader.py:490: UserWarning: This DataLoader will create 4 worker processes in total. Our suggested max number of worker in current system is 2, which is smaller than what this DataLoader is going to create. Please be aware that excessive worker creation might get DataLoader running slow or even freeze, lower the worker number to avoid potential slowness/freeze if necessary.\n",
            "  cpuset_checked))\n"
          ]
        }
      ]
    },
    {
      "cell_type": "markdown",
      "source": [
        "###Sentiment Classification with BERT and Hugging Face\n",
        "We’ll use the basic BertModel and build our sentiment classifier on top of it. "
      ],
      "metadata": {
        "id": "VS81_Nr2-dPG"
      }
    },
    {
      "cell_type": "code",
      "source": [
        "data = next(iter(train_data_loader))\n",
        "data.keys()"
      ],
      "metadata": {
        "colab": {
          "base_uri": "https://localhost:8080/"
        },
        "id": "Jx0s67YGHiUR",
        "outputId": "8b79bbfe-226a-4d0b-91ab-25ee3a80b2b8"
      },
      "execution_count": 29,
      "outputs": [
        {
          "output_type": "stream",
          "name": "stderr",
          "text": [
            "/usr/local/lib/python3.7/dist-packages/torch/utils/data/dataloader.py:490: UserWarning: This DataLoader will create 4 worker processes in total. Our suggested max number of worker in current system is 2, which is smaller than what this DataLoader is going to create. Please be aware that excessive worker creation might get DataLoader running slow or even freeze, lower the worker number to avoid potential slowness/freeze if necessary.\n",
            "  cpuset_checked))\n",
            "/usr/local/lib/python3.7/dist-packages/transformers/tokenization_utils_base.py:2307: FutureWarning: The `pad_to_max_length` argument is deprecated and will be removed in a future version, use `padding=True` or `padding='longest'` to pad to the longest sequence in the batch, or use `padding='max_length'` to pad to a max length. In this case, you can give a specific length with `max_length` (e.g. `max_length=45`) or leave max_length to None to pad to the maximal input size of the model (e.g. 512 for Bert).\n",
            "  FutureWarning,\n",
            "/usr/local/lib/python3.7/dist-packages/transformers/tokenization_utils_base.py:2307: FutureWarning: The `pad_to_max_length` argument is deprecated and will be removed in a future version, use `padding=True` or `padding='longest'` to pad to the longest sequence in the batch, or use `padding='max_length'` to pad to a max length. In this case, you can give a specific length with `max_length` (e.g. `max_length=45`) or leave max_length to None to pad to the maximal input size of the model (e.g. 512 for Bert).\n",
            "  FutureWarning,\n",
            "/usr/local/lib/python3.7/dist-packages/transformers/tokenization_utils_base.py:2307: FutureWarning: The `pad_to_max_length` argument is deprecated and will be removed in a future version, use `padding=True` or `padding='longest'` to pad to the longest sequence in the batch, or use `padding='max_length'` to pad to a max length. In this case, you can give a specific length with `max_length` (e.g. `max_length=45`) or leave max_length to None to pad to the maximal input size of the model (e.g. 512 for Bert).\n",
            "  FutureWarning,\n",
            "/usr/local/lib/python3.7/dist-packages/transformers/tokenization_utils_base.py:2307: FutureWarning: The `pad_to_max_length` argument is deprecated and will be removed in a future version, use `padding=True` or `padding='longest'` to pad to the longest sequence in the batch, or use `padding='max_length'` to pad to a max length. In this case, you can give a specific length with `max_length` (e.g. `max_length=45`) or leave max_length to None to pad to the maximal input size of the model (e.g. 512 for Bert).\n",
            "  FutureWarning,\n"
          ]
        },
        {
          "output_type": "execute_result",
          "data": {
            "text/plain": [
              "dict_keys(['review_text', 'input_ids', 'attention_mask', 'targets'])"
            ]
          },
          "metadata": {},
          "execution_count": 29
        }
      ]
    },
    {
      "cell_type": "code",
      "source": [
        "print(data['input_ids'].shape)\n",
        "print(data['attention_mask'].shape)\n",
        "print(data['targets'].shape)"
      ],
      "metadata": {
        "colab": {
          "base_uri": "https://localhost:8080/"
        },
        "id": "TPUdaQu2Hm1c",
        "outputId": "7366fac4-d7df-416f-fba6-ea9eb3884c2c"
      },
      "execution_count": 30,
      "outputs": [
        {
          "output_type": "stream",
          "name": "stdout",
          "text": [
            "torch.Size([16, 160])\n",
            "torch.Size([16, 160])\n",
            "torch.Size([16])\n"
          ]
        }
      ]
    },
    {
      "cell_type": "markdown",
      "source": [
        "###We use a dropout layer for some regularization and a fully-connected layer for our output. We are returning the raw output of the last layer since that is required for the cross-entropy loss function in PyTorch to work."
      ],
      "metadata": {
        "id": "BgCuqW08-tti"
      }
    },
    {
      "cell_type": "code",
      "source": [
        "bert_model = BertModel.from_pretrained(PRE_TRAINED_MODEL_NAME)"
      ],
      "metadata": {
        "colab": {
          "base_uri": "https://localhost:8080/",
          "height": 121,
          "referenced_widgets": [
            "3c6c39a2d5954f0489ccd42e6837b427",
            "e4a11ad598a848c789a0c6f71175309e",
            "607a505c31784ee4b061102754711f2f",
            "5715ef420da043af8c0800d63ffa7a0b",
            "3985b0af4d3a4394ab22633aac4eaf86",
            "a2b51d66fb214a64adffd9248525b679",
            "02b10ed1c119492385dc9b6e715d63ea",
            "bb2af3535bf74ee9b862d0bcdfeb0ff8",
            "d2dbd462ec244a6fb24c50025fd4a03b",
            "b6b795301f314e2c8992996241c6f726",
            "0af25637470b41cf83f13e2549a8130d"
          ]
        },
        "id": "Snay5EllH1lG",
        "outputId": "5bf61158-556f-426c-8164-774dd13ec889"
      },
      "execution_count": 31,
      "outputs": [
        {
          "output_type": "display_data",
          "data": {
            "text/plain": [
              "Downloading:   0%|          | 0.00/416M [00:00<?, ?B/s]"
            ],
            "application/vnd.jupyter.widget-view+json": {
              "version_major": 2,
              "version_minor": 0,
              "model_id": "3c6c39a2d5954f0489ccd42e6837b427"
            }
          },
          "metadata": {}
        },
        {
          "output_type": "stream",
          "name": "stderr",
          "text": [
            "Some weights of the model checkpoint at bert-base-cased were not used when initializing BertModel: ['cls.predictions.decoder.weight', 'cls.seq_relationship.bias', 'cls.predictions.bias', 'cls.seq_relationship.weight', 'cls.predictions.transform.dense.bias', 'cls.predictions.transform.LayerNorm.weight', 'cls.predictions.transform.dense.weight', 'cls.predictions.transform.LayerNorm.bias']\n",
            "- This IS expected if you are initializing BertModel from the checkpoint of a model trained on another task or with another architecture (e.g. initializing a BertForSequenceClassification model from a BertForPreTraining model).\n",
            "- This IS NOT expected if you are initializing BertModel from the checkpoint of a model that you expect to be exactly identical (initializing a BertForSequenceClassification model from a BertForSequenceClassification model).\n"
          ]
        }
      ]
    },
    {
      "cell_type": "code",
      "source": [
        "# Build the Sentiment Classifier class \n",
        "class SentimentClassifier(nn.Module):\n",
        "\n",
        "  def __init__(self, n_classes):\n",
        "    super(SentimentClassifier, self).__init__()\n",
        "    self.bert = BertModel.from_pretrained(PRE_TRAINED_MODEL_NAME, return_dict=False)\n",
        "    #The Dropout layer randomly sets input units to 0 with a frequency of rate at each step during training time, which helps prevent overfitting.\n",
        "    self.drop = nn.Dropout(p=0.3)\n",
        "    self.out = nn.Linear(self.bert.config.hidden_size, n_classes)\n",
        "  \n",
        "  def forward(self, input_ids, attention_mask):\n",
        "    _, pooled_output = self.bert(\n",
        "      input_ids=input_ids,\n",
        "      attention_mask=attention_mask\n",
        "    )\n",
        "    output = self.drop(pooled_output)\n",
        "    return self.out(output)"
      ],
      "metadata": {
        "id": "eRzt8nmuwxhz"
      },
      "execution_count": 32,
      "outputs": []
    },
    {
      "cell_type": "code",
      "source": [
        "# Instantiate the model and move to GPU\n",
        "model = SentimentClassifier(len(class_names))\n",
        "model = model.to(device)"
      ],
      "metadata": {
        "colab": {
          "base_uri": "https://localhost:8080/"
        },
        "id": "kAOkRLflzRTQ",
        "outputId": "970d5485-0b5b-4d53-9d0c-55fc8630ae3a"
      },
      "execution_count": 33,
      "outputs": [
        {
          "output_type": "stream",
          "name": "stderr",
          "text": [
            "Some weights of the model checkpoint at bert-base-cased were not used when initializing BertModel: ['cls.predictions.decoder.weight', 'cls.seq_relationship.bias', 'cls.predictions.bias', 'cls.seq_relationship.weight', 'cls.predictions.transform.dense.bias', 'cls.predictions.transform.LayerNorm.weight', 'cls.predictions.transform.dense.weight', 'cls.predictions.transform.LayerNorm.bias']\n",
            "- This IS expected if you are initializing BertModel from the checkpoint of a model trained on another task or with another architecture (e.g. initializing a BertForSequenceClassification model from a BertForPreTraining model).\n",
            "- This IS NOT expected if you are initializing BertModel from the checkpoint of a model that you expect to be exactly identical (initializing a BertForSequenceClassification model from a BertForSequenceClassification model).\n"
          ]
        }
      ]
    },
    {
      "cell_type": "code",
      "source": [
        "input_ids = data['input_ids'].to(device)\n",
        "attention_mask = data['attention_mask'].to(device)\n",
        "\n",
        "print(input_ids.shape) # batch size x seq length\n",
        "print(attention_mask.shape) # batch size x seq length"
      ],
      "metadata": {
        "colab": {
          "base_uri": "https://localhost:8080/"
        },
        "id": "alv4gSoxJEQv",
        "outputId": "d6d0f319-c9fb-447d-b5d9-4321bb02e5e5"
      },
      "execution_count": 34,
      "outputs": [
        {
          "output_type": "stream",
          "name": "stdout",
          "text": [
            "torch.Size([16, 160])\n",
            "torch.Size([16, 160])\n"
          ]
        }
      ]
    },
    {
      "cell_type": "code",
      "source": [
        "#Convert the values to range of 0-1\n",
        "F.softmax(model(input_ids, attention_mask), dim=1)"
      ],
      "metadata": {
        "colab": {
          "base_uri": "https://localhost:8080/"
        },
        "id": "vOMbMIaOJq0O",
        "outputId": "2e98d00c-b70a-4fcc-b9b2-dc166124bd1f"
      },
      "execution_count": 35,
      "outputs": [
        {
          "output_type": "execute_result",
          "data": {
            "text/plain": [
              "tensor([[0.2332, 0.4717, 0.2951],\n",
              "        [0.2219, 0.3612, 0.4168],\n",
              "        [0.3589, 0.2427, 0.3984],\n",
              "        [0.2221, 0.3218, 0.4561],\n",
              "        [0.5762, 0.2056, 0.2181],\n",
              "        [0.2249, 0.4422, 0.3329],\n",
              "        [0.2750, 0.3181, 0.4069],\n",
              "        [0.3732, 0.2454, 0.3813],\n",
              "        [0.3927, 0.1892, 0.4181],\n",
              "        [0.3349, 0.1948, 0.4703],\n",
              "        [0.3043, 0.2263, 0.4695],\n",
              "        [0.3710, 0.1894, 0.4396],\n",
              "        [0.2090, 0.4449, 0.3462],\n",
              "        [0.3396, 0.2594, 0.4010],\n",
              "        [0.3456, 0.2260, 0.4284],\n",
              "        [0.1500, 0.3302, 0.5198]], device='cuda:0', grad_fn=<SoftmaxBackward0>)"
            ]
          },
          "metadata": {},
          "execution_count": 35
        }
      ]
    },
    {
      "cell_type": "markdown",
      "source": [
        "###Training Phase\n",
        "we’ll use the AdamW optimizer provided by Hugging Face. We’ll also use a linear scheduler with no warmup"
      ],
      "metadata": {
        "id": "MFqcQa-T-8sz"
      }
    },
    {
      "cell_type": "code",
      "source": [
        "# Number of iterations \n",
        "EPOCHS = 10\n",
        "\n",
        "# Optimizer Adam \n",
        "optimizer = AdamW(model.parameters(), lr=2e-5, correct_bias=False)\n",
        "\n",
        "total_steps = len(train_data_loader) * EPOCHS\n",
        "\n",
        "#Provided by hugging face Library\n",
        "#Linear Warmup is a learning rate schedule where we linearly increase the learning rate from a low rate to a constant rate thereafter.\n",
        "scheduler = get_linear_schedule_with_warmup(\n",
        "    optimizer,\n",
        "    num_warmup_steps=0,\n",
        "    num_training_steps=total_steps\n",
        ")\n",
        "\n",
        "# Set the loss function \n",
        "loss_fn = nn.CrossEntropyLoss().to(device)"
      ],
      "metadata": {
        "id": "ikLY8LXC0Kp6",
        "colab": {
          "base_uri": "https://localhost:8080/"
        },
        "outputId": "df637760-2f9b-4101-eeab-c61fdbebc8b0"
      },
      "execution_count": 42,
      "outputs": [
        {
          "output_type": "stream",
          "name": "stderr",
          "text": [
            "/usr/local/lib/python3.7/dist-packages/transformers/optimization.py:310: FutureWarning: This implementation of AdamW is deprecated and will be removed in a future version. Use the PyTorch implementation torch.optim.AdamW instead, or set `no_deprecation_warning=True` to disable this warning\n",
            "  FutureWarning,\n"
          ]
        }
      ]
    },
    {
      "cell_type": "code",
      "source": [
        "def train_epoch(\n",
        "  model, \n",
        "  data_loader, \n",
        "  loss_fn, \n",
        "  optimizer, \n",
        "  device, \n",
        "  scheduler, \n",
        "  n_examples\n",
        "):\n",
        "  model = model.train()\n",
        "\n",
        "  losses = []\n",
        "  correct_predictions = 0\n",
        "  \n",
        "  for d in data_loader:\n",
        "    input_ids = d[\"input_ids\"].to(device)\n",
        "    attention_mask = d[\"attention_mask\"].to(device)\n",
        "    targets = d[\"targets\"].to(device)\n",
        "\n",
        "    outputs = model(\n",
        "      input_ids=input_ids,\n",
        "      attention_mask=attention_mask\n",
        "    )\n",
        "\n",
        "    _, preds = torch.max(outputs, dim=1)\n",
        "    loss = loss_fn(outputs, targets)\n",
        "\n",
        "    correct_predictions += torch.sum(preds == targets)\n",
        "    losses.append(loss.item())\n",
        "    \n",
        "    #Perform backward pass\n",
        "    loss.backward()\n",
        "    # Clip the norm of the gradients to 1.0.\n",
        "    # This is to help prevent the \"exploding gradients\" problem.\n",
        "    nn.utils.clip_grad_norm_(model.parameters(), max_norm=1.0)\n",
        "    # Update parameters and take a step using the computed gradient.\n",
        "    # The optimizer dictates the \"update rule\"--how the parameters are\n",
        "    # modified based on their gradients, the learning rate, etc.\n",
        "    optimizer.step()\n",
        "    # Update the learning rate.\n",
        "    scheduler.step()\n",
        "    #zero_grad() restarts looping without losses from the last step if use the gradient method for decreasing the error \n",
        "    optimizer.zero_grad()\n",
        "\n",
        "  return correct_predictions.double() / n_examples, np.mean(losses)"
      ],
      "metadata": {
        "id": "f4wvDToqPb9Z"
      },
      "execution_count": 43,
      "outputs": []
    },
    {
      "cell_type": "code",
      "source": [
        "def eval_model(model, data_loader, loss_fn, device, n_examples):\n",
        "  model = model.eval()\n",
        "\n",
        "  losses = []\n",
        "  correct_predictions = 0\n",
        "\n",
        "  with torch.no_grad():\n",
        "    for d in data_loader:\n",
        "      input_ids = d[\"input_ids\"].to(device)\n",
        "      attention_mask = d[\"attention_mask\"].to(device)\n",
        "      targets = d[\"targets\"].to(device)\n",
        "\n",
        "      outputs = model(\n",
        "        input_ids=input_ids,\n",
        "        attention_mask=attention_mask\n",
        "      )\n",
        "      _, preds = torch.max(outputs, dim=1)\n",
        "\n",
        "      loss = loss_fn(outputs, targets)\n",
        "\n",
        "      correct_predictions += torch.sum(preds == targets)\n",
        "      losses.append(loss.item())\n",
        "\n",
        "  return correct_predictions.double() / n_examples, np.mean(losses)"
      ],
      "metadata": {
        "id": "qKoFCjcGcqpe"
      },
      "execution_count": 44,
      "outputs": []
    },
    {
      "cell_type": "code",
      "source": [
        "%%time\n",
        "\n",
        "history_train_acc = []\n",
        "history_train_loss = []\n",
        "history_val_acc = []\n",
        "history_val_loss = []\n",
        "best_accuracy = 0\n",
        "\n",
        "for epoch in range(EPOCHS):\n",
        "\n",
        "  print(f'Epoch {epoch + 1}/{EPOCHS}')\n",
        "  print('-' * 10)\n",
        "\n",
        "  train_acc, train_loss = train_epoch(\n",
        "    model,\n",
        "    train_data_loader,    \n",
        "    loss_fn, \n",
        "    optimizer, \n",
        "    device, \n",
        "    scheduler, \n",
        "    len(df_train)\n",
        "  )\n",
        "\n",
        "  print(f'Train loss {train_loss} accuracy {train_acc}')\n",
        "\n",
        "  val_acc, val_loss = eval_model(\n",
        "    model,\n",
        "    val_data_loader,\n",
        "    loss_fn, \n",
        "    device, \n",
        "    len(df_val)\n",
        "  )\n",
        "\n",
        "  print(f'Val   loss {val_loss} accuracy {val_acc}')\n",
        "  print()\n",
        "\n",
        "  history_train_acc.append(train_acc.item())\n",
        "  history_train_loss.append(train_loss.item())\n",
        "  history_val_acc.append(val_acc.item())\n",
        "  history_val_loss.append(val_loss.item())\n",
        "\n",
        "  if val_acc > best_accuracy:\n",
        "    torch.save(model.state_dict(), 'best_model_state.bin')\n",
        "    best_accuracy = val_acc"
      ],
      "metadata": {
        "id": "lfM6Ejwwd1et",
        "colab": {
          "base_uri": "https://localhost:8080/"
        },
        "outputId": "f231b9b4-a93d-40c8-9c0a-92348878867c"
      },
      "execution_count": 45,
      "outputs": [
        {
          "output_type": "stream",
          "name": "stdout",
          "text": [
            "Epoch 1/10\n",
            "----------\n"
          ]
        },
        {
          "output_type": "stream",
          "name": "stderr",
          "text": [
            "/usr/local/lib/python3.7/dist-packages/torch/utils/data/dataloader.py:490: UserWarning: This DataLoader will create 4 worker processes in total. Our suggested max number of worker in current system is 2, which is smaller than what this DataLoader is going to create. Please be aware that excessive worker creation might get DataLoader running slow or even freeze, lower the worker number to avoid potential slowness/freeze if necessary.\n",
            "  cpuset_checked))\n",
            "/usr/local/lib/python3.7/dist-packages/transformers/tokenization_utils_base.py:2307: FutureWarning: The `pad_to_max_length` argument is deprecated and will be removed in a future version, use `padding=True` or `padding='longest'` to pad to the longest sequence in the batch, or use `padding='max_length'` to pad to a max length. In this case, you can give a specific length with `max_length` (e.g. `max_length=45`) or leave max_length to None to pad to the maximal input size of the model (e.g. 512 for Bert).\n",
            "  FutureWarning,\n",
            "/usr/local/lib/python3.7/dist-packages/transformers/tokenization_utils_base.py:2307: FutureWarning: The `pad_to_max_length` argument is deprecated and will be removed in a future version, use `padding=True` or `padding='longest'` to pad to the longest sequence in the batch, or use `padding='max_length'` to pad to a max length. In this case, you can give a specific length with `max_length` (e.g. `max_length=45`) or leave max_length to None to pad to the maximal input size of the model (e.g. 512 for Bert).\n",
            "  FutureWarning,\n",
            "/usr/local/lib/python3.7/dist-packages/transformers/tokenization_utils_base.py:2307: FutureWarning: The `pad_to_max_length` argument is deprecated and will be removed in a future version, use `padding=True` or `padding='longest'` to pad to the longest sequence in the batch, or use `padding='max_length'` to pad to a max length. In this case, you can give a specific length with `max_length` (e.g. `max_length=45`) or leave max_length to None to pad to the maximal input size of the model (e.g. 512 for Bert).\n",
            "  FutureWarning,\n",
            "/usr/local/lib/python3.7/dist-packages/transformers/tokenization_utils_base.py:2307: FutureWarning: The `pad_to_max_length` argument is deprecated and will be removed in a future version, use `padding=True` or `padding='longest'` to pad to the longest sequence in the batch, or use `padding='max_length'` to pad to a max length. In this case, you can give a specific length with `max_length` (e.g. `max_length=45`) or leave max_length to None to pad to the maximal input size of the model (e.g. 512 for Bert).\n",
            "  FutureWarning,\n"
          ]
        },
        {
          "output_type": "stream",
          "name": "stdout",
          "text": [
            "Train loss 0.6285450115093528 accuracy 0.7395384941076847\n"
          ]
        },
        {
          "output_type": "stream",
          "name": "stderr",
          "text": [
            "/usr/local/lib/python3.7/dist-packages/transformers/tokenization_utils_base.py:2307: FutureWarning: The `pad_to_max_length` argument is deprecated and will be removed in a future version, use `padding=True` or `padding='longest'` to pad to the longest sequence in the batch, or use `padding='max_length'` to pad to a max length. In this case, you can give a specific length with `max_length` (e.g. `max_length=45`) or leave max_length to None to pad to the maximal input size of the model (e.g. 512 for Bert).\n",
            "  FutureWarning,\n",
            "/usr/local/lib/python3.7/dist-packages/transformers/tokenization_utils_base.py:2307: FutureWarning: The `pad_to_max_length` argument is deprecated and will be removed in a future version, use `padding=True` or `padding='longest'` to pad to the longest sequence in the batch, or use `padding='max_length'` to pad to a max length. In this case, you can give a specific length with `max_length` (e.g. `max_length=45`) or leave max_length to None to pad to the maximal input size of the model (e.g. 512 for Bert).\n",
            "  FutureWarning,\n",
            "/usr/local/lib/python3.7/dist-packages/transformers/tokenization_utils_base.py:2307: FutureWarning: The `pad_to_max_length` argument is deprecated and will be removed in a future version, use `padding=True` or `padding='longest'` to pad to the longest sequence in the batch, or use `padding='max_length'` to pad to a max length. In this case, you can give a specific length with `max_length` (e.g. `max_length=45`) or leave max_length to None to pad to the maximal input size of the model (e.g. 512 for Bert).\n",
            "  FutureWarning,\n",
            "/usr/local/lib/python3.7/dist-packages/transformers/tokenization_utils_base.py:2307: FutureWarning: The `pad_to_max_length` argument is deprecated and will be removed in a future version, use `padding=True` or `padding='longest'` to pad to the longest sequence in the batch, or use `padding='max_length'` to pad to a max length. In this case, you can give a specific length with `max_length` (e.g. `max_length=45`) or leave max_length to None to pad to the maximal input size of the model (e.g. 512 for Bert).\n",
            "  FutureWarning,\n"
          ]
        },
        {
          "output_type": "stream",
          "name": "stdout",
          "text": [
            "Val   loss 0.557242124825716 accuracy 0.7992376111817027\n",
            "\n",
            "Epoch 2/10\n",
            "----------\n"
          ]
        },
        {
          "output_type": "stream",
          "name": "stderr",
          "text": [
            "/usr/local/lib/python3.7/dist-packages/transformers/tokenization_utils_base.py:2307: FutureWarning: The `pad_to_max_length` argument is deprecated and will be removed in a future version, use `padding=True` or `padding='longest'` to pad to the longest sequence in the batch, or use `padding='max_length'` to pad to a max length. In this case, you can give a specific length with `max_length` (e.g. `max_length=45`) or leave max_length to None to pad to the maximal input size of the model (e.g. 512 for Bert).\n",
            "  FutureWarning,\n",
            "/usr/local/lib/python3.7/dist-packages/transformers/tokenization_utils_base.py:2307: FutureWarning: The `pad_to_max_length` argument is deprecated and will be removed in a future version, use `padding=True` or `padding='longest'` to pad to the longest sequence in the batch, or use `padding='max_length'` to pad to a max length. In this case, you can give a specific length with `max_length` (e.g. `max_length=45`) or leave max_length to None to pad to the maximal input size of the model (e.g. 512 for Bert).\n",
            "  FutureWarning,\n",
            "/usr/local/lib/python3.7/dist-packages/transformers/tokenization_utils_base.py:2307: FutureWarning: The `pad_to_max_length` argument is deprecated and will be removed in a future version, use `padding=True` or `padding='longest'` to pad to the longest sequence in the batch, or use `padding='max_length'` to pad to a max length. In this case, you can give a specific length with `max_length` (e.g. `max_length=45`) or leave max_length to None to pad to the maximal input size of the model (e.g. 512 for Bert).\n",
            "  FutureWarning,\n",
            "/usr/local/lib/python3.7/dist-packages/transformers/tokenization_utils_base.py:2307: FutureWarning: The `pad_to_max_length` argument is deprecated and will be removed in a future version, use `padding=True` or `padding='longest'` to pad to the longest sequence in the batch, or use `padding='max_length'` to pad to a max length. In this case, you can give a specific length with `max_length` (e.g. `max_length=45`) or leave max_length to None to pad to the maximal input size of the model (e.g. 512 for Bert).\n",
            "  FutureWarning,\n"
          ]
        },
        {
          "output_type": "stream",
          "name": "stdout",
          "text": [
            "Train loss 0.3604644360525311 accuracy 0.8731917295885965\n"
          ]
        },
        {
          "output_type": "stream",
          "name": "stderr",
          "text": [
            "/usr/local/lib/python3.7/dist-packages/transformers/tokenization_utils_base.py:2307: FutureWarning: The `pad_to_max_length` argument is deprecated and will be removed in a future version, use `padding=True` or `padding='longest'` to pad to the longest sequence in the batch, or use `padding='max_length'` to pad to a max length. In this case, you can give a specific length with `max_length` (e.g. `max_length=45`) or leave max_length to None to pad to the maximal input size of the model (e.g. 512 for Bert).\n",
            "  FutureWarning,\n",
            "/usr/local/lib/python3.7/dist-packages/transformers/tokenization_utils_base.py:2307: FutureWarning: The `pad_to_max_length` argument is deprecated and will be removed in a future version, use `padding=True` or `padding='longest'` to pad to the longest sequence in the batch, or use `padding='max_length'` to pad to a max length. In this case, you can give a specific length with `max_length` (e.g. `max_length=45`) or leave max_length to None to pad to the maximal input size of the model (e.g. 512 for Bert).\n",
            "  FutureWarning,\n",
            "/usr/local/lib/python3.7/dist-packages/transformers/tokenization_utils_base.py:2307: FutureWarning: The `pad_to_max_length` argument is deprecated and will be removed in a future version, use `padding=True` or `padding='longest'` to pad to the longest sequence in the batch, or use `padding='max_length'` to pad to a max length. In this case, you can give a specific length with `max_length` (e.g. `max_length=45`) or leave max_length to None to pad to the maximal input size of the model (e.g. 512 for Bert).\n",
            "  FutureWarning,\n",
            "/usr/local/lib/python3.7/dist-packages/transformers/tokenization_utils_base.py:2307: FutureWarning: The `pad_to_max_length` argument is deprecated and will be removed in a future version, use `padding=True` or `padding='longest'` to pad to the longest sequence in the batch, or use `padding='max_length'` to pad to a max length. In this case, you can give a specific length with `max_length` (e.g. `max_length=45`) or leave max_length to None to pad to the maximal input size of the model (e.g. 512 for Bert).\n",
            "  FutureWarning,\n"
          ]
        },
        {
          "output_type": "stream",
          "name": "stdout",
          "text": [
            "Val   loss 0.4994989447295666 accuracy 0.8373570520965693\n",
            "\n",
            "Epoch 3/10\n",
            "----------\n"
          ]
        },
        {
          "output_type": "stream",
          "name": "stderr",
          "text": [
            "/usr/local/lib/python3.7/dist-packages/transformers/tokenization_utils_base.py:2307: FutureWarning: The `pad_to_max_length` argument is deprecated and will be removed in a future version, use `padding=True` or `padding='longest'` to pad to the longest sequence in the batch, or use `padding='max_length'` to pad to a max length. In this case, you can give a specific length with `max_length` (e.g. `max_length=45`) or leave max_length to None to pad to the maximal input size of the model (e.g. 512 for Bert).\n",
            "  FutureWarning,\n",
            "/usr/local/lib/python3.7/dist-packages/transformers/tokenization_utils_base.py:2307: FutureWarning: The `pad_to_max_length` argument is deprecated and will be removed in a future version, use `padding=True` or `padding='longest'` to pad to the longest sequence in the batch, or use `padding='max_length'` to pad to a max length. In this case, you can give a specific length with `max_length` (e.g. `max_length=45`) or leave max_length to None to pad to the maximal input size of the model (e.g. 512 for Bert).\n",
            "  FutureWarning,\n",
            "/usr/local/lib/python3.7/dist-packages/transformers/tokenization_utils_base.py:2307: FutureWarning: The `pad_to_max_length` argument is deprecated and will be removed in a future version, use `padding=True` or `padding='longest'` to pad to the longest sequence in the batch, or use `padding='max_length'` to pad to a max length. In this case, you can give a specific length with `max_length` (e.g. `max_length=45`) or leave max_length to None to pad to the maximal input size of the model (e.g. 512 for Bert).\n",
            "  FutureWarning,\n",
            "/usr/local/lib/python3.7/dist-packages/transformers/tokenization_utils_base.py:2307: FutureWarning: The `pad_to_max_length` argument is deprecated and will be removed in a future version, use `padding=True` or `padding='longest'` to pad to the longest sequence in the batch, or use `padding='max_length'` to pad to a max length. In this case, you can give a specific length with `max_length` (e.g. `max_length=45`) or leave max_length to None to pad to the maximal input size of the model (e.g. 512 for Bert).\n",
            "  FutureWarning,\n"
          ]
        },
        {
          "output_type": "stream",
          "name": "stdout",
          "text": [
            "Train loss 0.22795653084564205 accuracy 0.9347258485639687\n"
          ]
        },
        {
          "output_type": "stream",
          "name": "stderr",
          "text": [
            "/usr/local/lib/python3.7/dist-packages/transformers/tokenization_utils_base.py:2307: FutureWarning: The `pad_to_max_length` argument is deprecated and will be removed in a future version, use `padding=True` or `padding='longest'` to pad to the longest sequence in the batch, or use `padding='max_length'` to pad to a max length. In this case, you can give a specific length with `max_length` (e.g. `max_length=45`) or leave max_length to None to pad to the maximal input size of the model (e.g. 512 for Bert).\n",
            "  FutureWarning,\n",
            "/usr/local/lib/python3.7/dist-packages/transformers/tokenization_utils_base.py:2307: FutureWarning: The `pad_to_max_length` argument is deprecated and will be removed in a future version, use `padding=True` or `padding='longest'` to pad to the longest sequence in the batch, or use `padding='max_length'` to pad to a max length. In this case, you can give a specific length with `max_length` (e.g. `max_length=45`) or leave max_length to None to pad to the maximal input size of the model (e.g. 512 for Bert).\n",
            "  FutureWarning,\n",
            "/usr/local/lib/python3.7/dist-packages/transformers/tokenization_utils_base.py:2307: FutureWarning: The `pad_to_max_length` argument is deprecated and will be removed in a future version, use `padding=True` or `padding='longest'` to pad to the longest sequence in the batch, or use `padding='max_length'` to pad to a max length. In this case, you can give a specific length with `max_length` (e.g. `max_length=45`) or leave max_length to None to pad to the maximal input size of the model (e.g. 512 for Bert).\n",
            "  FutureWarning,\n",
            "/usr/local/lib/python3.7/dist-packages/transformers/tokenization_utils_base.py:2307: FutureWarning: The `pad_to_max_length` argument is deprecated and will be removed in a future version, use `padding=True` or `padding='longest'` to pad to the longest sequence in the batch, or use `padding='max_length'` to pad to a max length. In this case, you can give a specific length with `max_length` (e.g. `max_length=45`) or leave max_length to None to pad to the maximal input size of the model (e.g. 512 for Bert).\n",
            "  FutureWarning,\n"
          ]
        },
        {
          "output_type": "stream",
          "name": "stdout",
          "text": [
            "Val   loss 0.5832695107348264 accuracy 0.8614993646759848\n",
            "\n",
            "Epoch 4/10\n",
            "----------\n"
          ]
        },
        {
          "output_type": "stream",
          "name": "stderr",
          "text": [
            "/usr/local/lib/python3.7/dist-packages/transformers/tokenization_utils_base.py:2307: FutureWarning: The `pad_to_max_length` argument is deprecated and will be removed in a future version, use `padding=True` or `padding='longest'` to pad to the longest sequence in the batch, or use `padding='max_length'` to pad to a max length. In this case, you can give a specific length with `max_length` (e.g. `max_length=45`) or leave max_length to None to pad to the maximal input size of the model (e.g. 512 for Bert).\n",
            "  FutureWarning,\n",
            "/usr/local/lib/python3.7/dist-packages/transformers/tokenization_utils_base.py:2307: FutureWarning: The `pad_to_max_length` argument is deprecated and will be removed in a future version, use `padding=True` or `padding='longest'` to pad to the longest sequence in the batch, or use `padding='max_length'` to pad to a max length. In this case, you can give a specific length with `max_length` (e.g. `max_length=45`) or leave max_length to None to pad to the maximal input size of the model (e.g. 512 for Bert).\n",
            "  FutureWarning,\n",
            "/usr/local/lib/python3.7/dist-packages/transformers/tokenization_utils_base.py:2307: FutureWarning: The `pad_to_max_length` argument is deprecated and will be removed in a future version, use `padding=True` or `padding='longest'` to pad to the longest sequence in the batch, or use `padding='max_length'` to pad to a max length. In this case, you can give a specific length with `max_length` (e.g. `max_length=45`) or leave max_length to None to pad to the maximal input size of the model (e.g. 512 for Bert).\n",
            "  FutureWarning,\n",
            "/usr/local/lib/python3.7/dist-packages/transformers/tokenization_utils_base.py:2307: FutureWarning: The `pad_to_max_length` argument is deprecated and will be removed in a future version, use `padding=True` or `padding='longest'` to pad to the longest sequence in the batch, or use `padding='max_length'` to pad to a max length. In this case, you can give a specific length with `max_length` (e.g. `max_length=45`) or leave max_length to None to pad to the maximal input size of the model (e.g. 512 for Bert).\n",
            "  FutureWarning,\n"
          ]
        },
        {
          "output_type": "stream",
          "name": "stdout",
          "text": [
            "Train loss 0.16397377059103302 accuracy 0.9573777432785266\n"
          ]
        },
        {
          "output_type": "stream",
          "name": "stderr",
          "text": [
            "/usr/local/lib/python3.7/dist-packages/transformers/tokenization_utils_base.py:2307: FutureWarning: The `pad_to_max_length` argument is deprecated and will be removed in a future version, use `padding=True` or `padding='longest'` to pad to the longest sequence in the batch, or use `padding='max_length'` to pad to a max length. In this case, you can give a specific length with `max_length` (e.g. `max_length=45`) or leave max_length to None to pad to the maximal input size of the model (e.g. 512 for Bert).\n",
            "  FutureWarning,\n",
            "/usr/local/lib/python3.7/dist-packages/transformers/tokenization_utils_base.py:2307: FutureWarning: The `pad_to_max_length` argument is deprecated and will be removed in a future version, use `padding=True` or `padding='longest'` to pad to the longest sequence in the batch, or use `padding='max_length'` to pad to a max length. In this case, you can give a specific length with `max_length` (e.g. `max_length=45`) or leave max_length to None to pad to the maximal input size of the model (e.g. 512 for Bert).\n",
            "  FutureWarning,\n",
            "/usr/local/lib/python3.7/dist-packages/transformers/tokenization_utils_base.py:2307: FutureWarning: The `pad_to_max_length` argument is deprecated and will be removed in a future version, use `padding=True` or `padding='longest'` to pad to the longest sequence in the batch, or use `padding='max_length'` to pad to a max length. In this case, you can give a specific length with `max_length` (e.g. `max_length=45`) or leave max_length to None to pad to the maximal input size of the model (e.g. 512 for Bert).\n",
            "  FutureWarning,\n",
            "/usr/local/lib/python3.7/dist-packages/transformers/tokenization_utils_base.py:2307: FutureWarning: The `pad_to_max_length` argument is deprecated and will be removed in a future version, use `padding=True` or `padding='longest'` to pad to the longest sequence in the batch, or use `padding='max_length'` to pad to a max length. In this case, you can give a specific length with `max_length` (e.g. `max_length=45`) or leave max_length to None to pad to the maximal input size of the model (e.g. 512 for Bert).\n",
            "  FutureWarning,\n"
          ]
        },
        {
          "output_type": "stream",
          "name": "stdout",
          "text": [
            "Val   loss 0.6659984731394798 accuracy 0.866581956797967\n",
            "\n",
            "Epoch 5/10\n",
            "----------\n"
          ]
        },
        {
          "output_type": "stream",
          "name": "stderr",
          "text": [
            "/usr/local/lib/python3.7/dist-packages/transformers/tokenization_utils_base.py:2307: FutureWarning: The `pad_to_max_length` argument is deprecated and will be removed in a future version, use `padding=True` or `padding='longest'` to pad to the longest sequence in the batch, or use `padding='max_length'` to pad to a max length. In this case, you can give a specific length with `max_length` (e.g. `max_length=45`) or leave max_length to None to pad to the maximal input size of the model (e.g. 512 for Bert).\n",
            "  FutureWarning,\n",
            "/usr/local/lib/python3.7/dist-packages/transformers/tokenization_utils_base.py:2307: FutureWarning: The `pad_to_max_length` argument is deprecated and will be removed in a future version, use `padding=True` or `padding='longest'` to pad to the longest sequence in the batch, or use `padding='max_length'` to pad to a max length. In this case, you can give a specific length with `max_length` (e.g. `max_length=45`) or leave max_length to None to pad to the maximal input size of the model (e.g. 512 for Bert).\n",
            "  FutureWarning,\n",
            "/usr/local/lib/python3.7/dist-packages/transformers/tokenization_utils_base.py:2307: FutureWarning: The `pad_to_max_length` argument is deprecated and will be removed in a future version, use `padding=True` or `padding='longest'` to pad to the longest sequence in the batch, or use `padding='max_length'` to pad to a max length. In this case, you can give a specific length with `max_length` (e.g. `max_length=45`) or leave max_length to None to pad to the maximal input size of the model (e.g. 512 for Bert).\n",
            "  FutureWarning,\n",
            "/usr/local/lib/python3.7/dist-packages/transformers/tokenization_utils_base.py:2307: FutureWarning: The `pad_to_max_length` argument is deprecated and will be removed in a future version, use `padding=True` or `padding='longest'` to pad to the longest sequence in the batch, or use `padding='max_length'` to pad to a max length. In this case, you can give a specific length with `max_length` (e.g. `max_length=45`) or leave max_length to None to pad to the maximal input size of the model (e.g. 512 for Bert).\n",
            "  FutureWarning,\n"
          ]
        },
        {
          "output_type": "stream",
          "name": "stdout",
          "text": [
            "Train loss 0.1264834048115579 accuracy 0.9681744407592972\n"
          ]
        },
        {
          "output_type": "stream",
          "name": "stderr",
          "text": [
            "/usr/local/lib/python3.7/dist-packages/transformers/tokenization_utils_base.py:2307: FutureWarning: The `pad_to_max_length` argument is deprecated and will be removed in a future version, use `padding=True` or `padding='longest'` to pad to the longest sequence in the batch, or use `padding='max_length'` to pad to a max length. In this case, you can give a specific length with `max_length` (e.g. `max_length=45`) or leave max_length to None to pad to the maximal input size of the model (e.g. 512 for Bert).\n",
            "  FutureWarning,\n",
            "/usr/local/lib/python3.7/dist-packages/transformers/tokenization_utils_base.py:2307: FutureWarning: The `pad_to_max_length` argument is deprecated and will be removed in a future version, use `padding=True` or `padding='longest'` to pad to the longest sequence in the batch, or use `padding='max_length'` to pad to a max length. In this case, you can give a specific length with `max_length` (e.g. `max_length=45`) or leave max_length to None to pad to the maximal input size of the model (e.g. 512 for Bert).\n",
            "  FutureWarning,\n",
            "/usr/local/lib/python3.7/dist-packages/transformers/tokenization_utils_base.py:2307: FutureWarning: The `pad_to_max_length` argument is deprecated and will be removed in a future version, use `padding=True` or `padding='longest'` to pad to the longest sequence in the batch, or use `padding='max_length'` to pad to a max length. In this case, you can give a specific length with `max_length` (e.g. `max_length=45`) or leave max_length to None to pad to the maximal input size of the model (e.g. 512 for Bert).\n",
            "  FutureWarning,\n",
            "/usr/local/lib/python3.7/dist-packages/transformers/tokenization_utils_base.py:2307: FutureWarning: The `pad_to_max_length` argument is deprecated and will be removed in a future version, use `padding=True` or `padding='longest'` to pad to the longest sequence in the batch, or use `padding='max_length'` to pad to a max length. In this case, you can give a specific length with `max_length` (e.g. `max_length=45`) or leave max_length to None to pad to the maximal input size of the model (e.g. 512 for Bert).\n",
            "  FutureWarning,\n"
          ]
        },
        {
          "output_type": "stream",
          "name": "stdout",
          "text": [
            "Val   loss 0.716584048573859 accuracy 0.8614993646759848\n",
            "\n",
            "Epoch 6/10\n",
            "----------\n"
          ]
        },
        {
          "output_type": "stream",
          "name": "stderr",
          "text": [
            "/usr/local/lib/python3.7/dist-packages/transformers/tokenization_utils_base.py:2307: FutureWarning: The `pad_to_max_length` argument is deprecated and will be removed in a future version, use `padding=True` or `padding='longest'` to pad to the longest sequence in the batch, or use `padding='max_length'` to pad to a max length. In this case, you can give a specific length with `max_length` (e.g. `max_length=45`) or leave max_length to None to pad to the maximal input size of the model (e.g. 512 for Bert).\n",
            "  FutureWarning,\n",
            "/usr/local/lib/python3.7/dist-packages/transformers/tokenization_utils_base.py:2307: FutureWarning: The `pad_to_max_length` argument is deprecated and will be removed in a future version, use `padding=True` or `padding='longest'` to pad to the longest sequence in the batch, or use `padding='max_length'` to pad to a max length. In this case, you can give a specific length with `max_length` (e.g. `max_length=45`) or leave max_length to None to pad to the maximal input size of the model (e.g. 512 for Bert).\n",
            "  FutureWarning,\n",
            "/usr/local/lib/python3.7/dist-packages/transformers/tokenization_utils_base.py:2307: FutureWarning: The `pad_to_max_length` argument is deprecated and will be removed in a future version, use `padding=True` or `padding='longest'` to pad to the longest sequence in the batch, or use `padding='max_length'` to pad to a max length. In this case, you can give a specific length with `max_length` (e.g. `max_length=45`) or leave max_length to None to pad to the maximal input size of the model (e.g. 512 for Bert).\n",
            "  FutureWarning,\n",
            "/usr/local/lib/python3.7/dist-packages/transformers/tokenization_utils_base.py:2307: FutureWarning: The `pad_to_max_length` argument is deprecated and will be removed in a future version, use `padding=True` or `padding='longest'` to pad to the longest sequence in the batch, or use `padding='max_length'` to pad to a max length. In this case, you can give a specific length with `max_length` (e.g. `max_length=45`) or leave max_length to None to pad to the maximal input size of the model (e.g. 512 for Bert).\n",
            "  FutureWarning,\n"
          ]
        },
        {
          "output_type": "stream",
          "name": "stdout",
          "text": [
            "Train loss 0.09563265767984637 accuracy 0.9750899724790064\n"
          ]
        },
        {
          "output_type": "stream",
          "name": "stderr",
          "text": [
            "/usr/local/lib/python3.7/dist-packages/transformers/tokenization_utils_base.py:2307: FutureWarning: The `pad_to_max_length` argument is deprecated and will be removed in a future version, use `padding=True` or `padding='longest'` to pad to the longest sequence in the batch, or use `padding='max_length'` to pad to a max length. In this case, you can give a specific length with `max_length` (e.g. `max_length=45`) or leave max_length to None to pad to the maximal input size of the model (e.g. 512 for Bert).\n",
            "  FutureWarning,\n",
            "/usr/local/lib/python3.7/dist-packages/transformers/tokenization_utils_base.py:2307: FutureWarning: The `pad_to_max_length` argument is deprecated and will be removed in a future version, use `padding=True` or `padding='longest'` to pad to the longest sequence in the batch, or use `padding='max_length'` to pad to a max length. In this case, you can give a specific length with `max_length` (e.g. `max_length=45`) or leave max_length to None to pad to the maximal input size of the model (e.g. 512 for Bert).\n",
            "  FutureWarning,\n",
            "/usr/local/lib/python3.7/dist-packages/transformers/tokenization_utils_base.py:2307: FutureWarning: The `pad_to_max_length` argument is deprecated and will be removed in a future version, use `padding=True` or `padding='longest'` to pad to the longest sequence in the batch, or use `padding='max_length'` to pad to a max length. In this case, you can give a specific length with `max_length` (e.g. `max_length=45`) or leave max_length to None to pad to the maximal input size of the model (e.g. 512 for Bert).\n",
            "  FutureWarning,\n",
            "/usr/local/lib/python3.7/dist-packages/transformers/tokenization_utils_base.py:2307: FutureWarning: The `pad_to_max_length` argument is deprecated and will be removed in a future version, use `padding=True` or `padding='longest'` to pad to the longest sequence in the batch, or use `padding='max_length'` to pad to a max length. In this case, you can give a specific length with `max_length` (e.g. `max_length=45`) or leave max_length to None to pad to the maximal input size of the model (e.g. 512 for Bert).\n",
            "  FutureWarning,\n"
          ]
        },
        {
          "output_type": "stream",
          "name": "stdout",
          "text": [
            "Val   loss 0.7935300136776641 accuracy 0.8589580686149937\n",
            "\n",
            "Epoch 7/10\n",
            "----------\n"
          ]
        },
        {
          "output_type": "stream",
          "name": "stderr",
          "text": [
            "/usr/local/lib/python3.7/dist-packages/transformers/tokenization_utils_base.py:2307: FutureWarning: The `pad_to_max_length` argument is deprecated and will be removed in a future version, use `padding=True` or `padding='longest'` to pad to the longest sequence in the batch, or use `padding='max_length'` to pad to a max length. In this case, you can give a specific length with `max_length` (e.g. `max_length=45`) or leave max_length to None to pad to the maximal input size of the model (e.g. 512 for Bert).\n",
            "  FutureWarning,\n",
            "/usr/local/lib/python3.7/dist-packages/transformers/tokenization_utils_base.py:2307: FutureWarning: The `pad_to_max_length` argument is deprecated and will be removed in a future version, use `padding=True` or `padding='longest'` to pad to the longest sequence in the batch, or use `padding='max_length'` to pad to a max length. In this case, you can give a specific length with `max_length` (e.g. `max_length=45`) or leave max_length to None to pad to the maximal input size of the model (e.g. 512 for Bert).\n",
            "  FutureWarning,\n",
            "/usr/local/lib/python3.7/dist-packages/transformers/tokenization_utils_base.py:2307: FutureWarning: The `pad_to_max_length` argument is deprecated and will be removed in a future version, use `padding=True` or `padding='longest'` to pad to the longest sequence in the batch, or use `padding='max_length'` to pad to a max length. In this case, you can give a specific length with `max_length` (e.g. `max_length=45`) or leave max_length to None to pad to the maximal input size of the model (e.g. 512 for Bert).\n",
            "  FutureWarning,\n",
            "/usr/local/lib/python3.7/dist-packages/transformers/tokenization_utils_base.py:2307: FutureWarning: The `pad_to_max_length` argument is deprecated and will be removed in a future version, use `padding=True` or `padding='longest'` to pad to the longest sequence in the batch, or use `padding='max_length'` to pad to a max length. In this case, you can give a specific length with `max_length` (e.g. `max_length=45`) or leave max_length to None to pad to the maximal input size of the model (e.g. 512 for Bert).\n",
            "  FutureWarning,\n"
          ]
        },
        {
          "output_type": "stream",
          "name": "stdout",
          "text": [
            "Train loss 0.0773206757405275 accuracy 0.9792534048408722\n"
          ]
        },
        {
          "output_type": "stream",
          "name": "stderr",
          "text": [
            "/usr/local/lib/python3.7/dist-packages/transformers/tokenization_utils_base.py:2307: FutureWarning: The `pad_to_max_length` argument is deprecated and will be removed in a future version, use `padding=True` or `padding='longest'` to pad to the longest sequence in the batch, or use `padding='max_length'` to pad to a max length. In this case, you can give a specific length with `max_length` (e.g. `max_length=45`) or leave max_length to None to pad to the maximal input size of the model (e.g. 512 for Bert).\n",
            "  FutureWarning,\n",
            "/usr/local/lib/python3.7/dist-packages/transformers/tokenization_utils_base.py:2307: FutureWarning: The `pad_to_max_length` argument is deprecated and will be removed in a future version, use `padding=True` or `padding='longest'` to pad to the longest sequence in the batch, or use `padding='max_length'` to pad to a max length. In this case, you can give a specific length with `max_length` (e.g. `max_length=45`) or leave max_length to None to pad to the maximal input size of the model (e.g. 512 for Bert).\n",
            "  FutureWarning,\n",
            "/usr/local/lib/python3.7/dist-packages/transformers/tokenization_utils_base.py:2307: FutureWarning: The `pad_to_max_length` argument is deprecated and will be removed in a future version, use `padding=True` or `padding='longest'` to pad to the longest sequence in the batch, or use `padding='max_length'` to pad to a max length. In this case, you can give a specific length with `max_length` (e.g. `max_length=45`) or leave max_length to None to pad to the maximal input size of the model (e.g. 512 for Bert).\n",
            "  FutureWarning,\n",
            "/usr/local/lib/python3.7/dist-packages/transformers/tokenization_utils_base.py:2307: FutureWarning: The `pad_to_max_length` argument is deprecated and will be removed in a future version, use `padding=True` or `padding='longest'` to pad to the longest sequence in the batch, or use `padding='max_length'` to pad to a max length. In this case, you can give a specific length with `max_length` (e.g. `max_length=45`) or leave max_length to None to pad to the maximal input size of the model (e.g. 512 for Bert).\n",
            "  FutureWarning,\n"
          ]
        },
        {
          "output_type": "stream",
          "name": "stdout",
          "text": [
            "Val   loss 0.8041569388285279 accuracy 0.8716645489199493\n",
            "\n",
            "Epoch 8/10\n",
            "----------\n"
          ]
        },
        {
          "output_type": "stream",
          "name": "stderr",
          "text": [
            "/usr/local/lib/python3.7/dist-packages/transformers/tokenization_utils_base.py:2307: FutureWarning: The `pad_to_max_length` argument is deprecated and will be removed in a future version, use `padding=True` or `padding='longest'` to pad to the longest sequence in the batch, or use `padding='max_length'` to pad to a max length. In this case, you can give a specific length with `max_length` (e.g. `max_length=45`) or leave max_length to None to pad to the maximal input size of the model (e.g. 512 for Bert).\n",
            "  FutureWarning,\n",
            "/usr/local/lib/python3.7/dist-packages/transformers/tokenization_utils_base.py:2307: FutureWarning: The `pad_to_max_length` argument is deprecated and will be removed in a future version, use `padding=True` or `padding='longest'` to pad to the longest sequence in the batch, or use `padding='max_length'` to pad to a max length. In this case, you can give a specific length with `max_length` (e.g. `max_length=45`) or leave max_length to None to pad to the maximal input size of the model (e.g. 512 for Bert).\n",
            "  FutureWarning,\n",
            "/usr/local/lib/python3.7/dist-packages/transformers/tokenization_utils_base.py:2307: FutureWarning: The `pad_to_max_length` argument is deprecated and will be removed in a future version, use `padding=True` or `padding='longest'` to pad to the longest sequence in the batch, or use `padding='max_length'` to pad to a max length. In this case, you can give a specific length with `max_length` (e.g. `max_length=45`) or leave max_length to None to pad to the maximal input size of the model (e.g. 512 for Bert).\n",
            "  FutureWarning,\n",
            "/usr/local/lib/python3.7/dist-packages/transformers/tokenization_utils_base.py:2307: FutureWarning: The `pad_to_max_length` argument is deprecated and will be removed in a future version, use `padding=True` or `padding='longest'` to pad to the longest sequence in the batch, or use `padding='max_length'` to pad to a max length. In this case, you can give a specific length with `max_length` (e.g. `max_length=45`) or leave max_length to None to pad to the maximal input size of the model (e.g. 512 for Bert).\n",
            "  FutureWarning,\n"
          ]
        },
        {
          "output_type": "stream",
          "name": "stdout",
          "text": [
            "Train loss 0.06463516954304077 accuracy 0.9821466374991179\n"
          ]
        },
        {
          "output_type": "stream",
          "name": "stderr",
          "text": [
            "/usr/local/lib/python3.7/dist-packages/transformers/tokenization_utils_base.py:2307: FutureWarning: The `pad_to_max_length` argument is deprecated and will be removed in a future version, use `padding=True` or `padding='longest'` to pad to the longest sequence in the batch, or use `padding='max_length'` to pad to a max length. In this case, you can give a specific length with `max_length` (e.g. `max_length=45`) or leave max_length to None to pad to the maximal input size of the model (e.g. 512 for Bert).\n",
            "  FutureWarning,\n",
            "/usr/local/lib/python3.7/dist-packages/transformers/tokenization_utils_base.py:2307: FutureWarning: The `pad_to_max_length` argument is deprecated and will be removed in a future version, use `padding=True` or `padding='longest'` to pad to the longest sequence in the batch, or use `padding='max_length'` to pad to a max length. In this case, you can give a specific length with `max_length` (e.g. `max_length=45`) or leave max_length to None to pad to the maximal input size of the model (e.g. 512 for Bert).\n",
            "  FutureWarning,\n",
            "/usr/local/lib/python3.7/dist-packages/transformers/tokenization_utils_base.py:2307: FutureWarning: The `pad_to_max_length` argument is deprecated and will be removed in a future version, use `padding=True` or `padding='longest'` to pad to the longest sequence in the batch, or use `padding='max_length'` to pad to a max length. In this case, you can give a specific length with `max_length` (e.g. `max_length=45`) or leave max_length to None to pad to the maximal input size of the model (e.g. 512 for Bert).\n",
            "  FutureWarning,\n",
            "/usr/local/lib/python3.7/dist-packages/transformers/tokenization_utils_base.py:2307: FutureWarning: The `pad_to_max_length` argument is deprecated and will be removed in a future version, use `padding=True` or `padding='longest'` to pad to the longest sequence in the batch, or use `padding='max_length'` to pad to a max length. In this case, you can give a specific length with `max_length` (e.g. `max_length=45`) or leave max_length to None to pad to the maximal input size of the model (e.g. 512 for Bert).\n",
            "  FutureWarning,\n"
          ]
        },
        {
          "output_type": "stream",
          "name": "stdout",
          "text": [
            "Val   loss 0.851679578970652 accuracy 0.8678526048284626\n",
            "\n",
            "Epoch 9/10\n",
            "----------\n"
          ]
        },
        {
          "output_type": "stream",
          "name": "stderr",
          "text": [
            "/usr/local/lib/python3.7/dist-packages/transformers/tokenization_utils_base.py:2307: FutureWarning: The `pad_to_max_length` argument is deprecated and will be removed in a future version, use `padding=True` or `padding='longest'` to pad to the longest sequence in the batch, or use `padding='max_length'` to pad to a max length. In this case, you can give a specific length with `max_length` (e.g. `max_length=45`) or leave max_length to None to pad to the maximal input size of the model (e.g. 512 for Bert).\n",
            "  FutureWarning,\n",
            "/usr/local/lib/python3.7/dist-packages/transformers/tokenization_utils_base.py:2307: FutureWarning: The `pad_to_max_length` argument is deprecated and will be removed in a future version, use `padding=True` or `padding='longest'` to pad to the longest sequence in the batch, or use `padding='max_length'` to pad to a max length. In this case, you can give a specific length with `max_length` (e.g. `max_length=45`) or leave max_length to None to pad to the maximal input size of the model (e.g. 512 for Bert).\n",
            "  FutureWarning,\n",
            "/usr/local/lib/python3.7/dist-packages/transformers/tokenization_utils_base.py:2307: FutureWarning: The `pad_to_max_length` argument is deprecated and will be removed in a future version, use `padding=True` or `padding='longest'` to pad to the longest sequence in the batch, or use `padding='max_length'` to pad to a max length. In this case, you can give a specific length with `max_length` (e.g. `max_length=45`) or leave max_length to None to pad to the maximal input size of the model (e.g. 512 for Bert).\n",
            "  FutureWarning,\n",
            "/usr/local/lib/python3.7/dist-packages/transformers/tokenization_utils_base.py:2307: FutureWarning: The `pad_to_max_length` argument is deprecated and will be removed in a future version, use `padding=True` or `padding='longest'` to pad to the longest sequence in the batch, or use `padding='max_length'` to pad to a max length. In this case, you can give a specific length with `max_length` (e.g. `max_length=45`) or leave max_length to None to pad to the maximal input size of the model (e.g. 512 for Bert).\n",
            "  FutureWarning,\n"
          ]
        },
        {
          "output_type": "stream",
          "name": "stdout",
          "text": [
            "Train loss 0.05316115892968539 accuracy 0.9842636370051514\n"
          ]
        },
        {
          "output_type": "stream",
          "name": "stderr",
          "text": [
            "/usr/local/lib/python3.7/dist-packages/transformers/tokenization_utils_base.py:2307: FutureWarning: The `pad_to_max_length` argument is deprecated and will be removed in a future version, use `padding=True` or `padding='longest'` to pad to the longest sequence in the batch, or use `padding='max_length'` to pad to a max length. In this case, you can give a specific length with `max_length` (e.g. `max_length=45`) or leave max_length to None to pad to the maximal input size of the model (e.g. 512 for Bert).\n",
            "  FutureWarning,\n",
            "/usr/local/lib/python3.7/dist-packages/transformers/tokenization_utils_base.py:2307: FutureWarning: The `pad_to_max_length` argument is deprecated and will be removed in a future version, use `padding=True` or `padding='longest'` to pad to the longest sequence in the batch, or use `padding='max_length'` to pad to a max length. In this case, you can give a specific length with `max_length` (e.g. `max_length=45`) or leave max_length to None to pad to the maximal input size of the model (e.g. 512 for Bert).\n",
            "  FutureWarning,\n",
            "/usr/local/lib/python3.7/dist-packages/transformers/tokenization_utils_base.py:2307: FutureWarning: The `pad_to_max_length` argument is deprecated and will be removed in a future version, use `padding=True` or `padding='longest'` to pad to the longest sequence in the batch, or use `padding='max_length'` to pad to a max length. In this case, you can give a specific length with `max_length` (e.g. `max_length=45`) or leave max_length to None to pad to the maximal input size of the model (e.g. 512 for Bert).\n",
            "  FutureWarning,\n",
            "/usr/local/lib/python3.7/dist-packages/transformers/tokenization_utils_base.py:2307: FutureWarning: The `pad_to_max_length` argument is deprecated and will be removed in a future version, use `padding=True` or `padding='longest'` to pad to the longest sequence in the batch, or use `padding='max_length'` to pad to a max length. In this case, you can give a specific length with `max_length` (e.g. `max_length=45`) or leave max_length to None to pad to the maximal input size of the model (e.g. 512 for Bert).\n",
            "  FutureWarning,\n"
          ]
        },
        {
          "output_type": "stream",
          "name": "stdout",
          "text": [
            "Val   loss 0.9228116229147417 accuracy 0.8640406607369759\n",
            "\n",
            "Epoch 10/10\n",
            "----------\n"
          ]
        },
        {
          "output_type": "stream",
          "name": "stderr",
          "text": [
            "/usr/local/lib/python3.7/dist-packages/transformers/tokenization_utils_base.py:2307: FutureWarning: The `pad_to_max_length` argument is deprecated and will be removed in a future version, use `padding=True` or `padding='longest'` to pad to the longest sequence in the batch, or use `padding='max_length'` to pad to a max length. In this case, you can give a specific length with `max_length` (e.g. `max_length=45`) or leave max_length to None to pad to the maximal input size of the model (e.g. 512 for Bert).\n",
            "  FutureWarning,\n",
            "/usr/local/lib/python3.7/dist-packages/transformers/tokenization_utils_base.py:2307: FutureWarning: The `pad_to_max_length` argument is deprecated and will be removed in a future version, use `padding=True` or `padding='longest'` to pad to the longest sequence in the batch, or use `padding='max_length'` to pad to a max length. In this case, you can give a specific length with `max_length` (e.g. `max_length=45`) or leave max_length to None to pad to the maximal input size of the model (e.g. 512 for Bert).\n",
            "  FutureWarning,\n",
            "/usr/local/lib/python3.7/dist-packages/transformers/tokenization_utils_base.py:2307: FutureWarning: The `pad_to_max_length` argument is deprecated and will be removed in a future version, use `padding=True` or `padding='longest'` to pad to the longest sequence in the batch, or use `padding='max_length'` to pad to a max length. In this case, you can give a specific length with `max_length` (e.g. `max_length=45`) or leave max_length to None to pad to the maximal input size of the model (e.g. 512 for Bert).\n",
            "  FutureWarning,\n",
            "/usr/local/lib/python3.7/dist-packages/transformers/tokenization_utils_base.py:2307: FutureWarning: The `pad_to_max_length` argument is deprecated and will be removed in a future version, use `padding=True` or `padding='longest'` to pad to the longest sequence in the batch, or use `padding='max_length'` to pad to a max length. In this case, you can give a specific length with `max_length` (e.g. `max_length=45`) or leave max_length to None to pad to the maximal input size of the model (e.g. 512 for Bert).\n",
            "  FutureWarning,\n"
          ]
        },
        {
          "output_type": "stream",
          "name": "stdout",
          "text": [
            "Train loss 0.044766967346390886 accuracy 0.9865923364617882\n"
          ]
        },
        {
          "output_type": "stream",
          "name": "stderr",
          "text": [
            "/usr/local/lib/python3.7/dist-packages/transformers/tokenization_utils_base.py:2307: FutureWarning: The `pad_to_max_length` argument is deprecated and will be removed in a future version, use `padding=True` or `padding='longest'` to pad to the longest sequence in the batch, or use `padding='max_length'` to pad to a max length. In this case, you can give a specific length with `max_length` (e.g. `max_length=45`) or leave max_length to None to pad to the maximal input size of the model (e.g. 512 for Bert).\n",
            "  FutureWarning,\n",
            "/usr/local/lib/python3.7/dist-packages/transformers/tokenization_utils_base.py:2307: FutureWarning: The `pad_to_max_length` argument is deprecated and will be removed in a future version, use `padding=True` or `padding='longest'` to pad to the longest sequence in the batch, or use `padding='max_length'` to pad to a max length. In this case, you can give a specific length with `max_length` (e.g. `max_length=45`) or leave max_length to None to pad to the maximal input size of the model (e.g. 512 for Bert).\n",
            "  FutureWarning,\n",
            "/usr/local/lib/python3.7/dist-packages/transformers/tokenization_utils_base.py:2307: FutureWarning: The `pad_to_max_length` argument is deprecated and will be removed in a future version, use `padding=True` or `padding='longest'` to pad to the longest sequence in the batch, or use `padding='max_length'` to pad to a max length. In this case, you can give a specific length with `max_length` (e.g. `max_length=45`) or leave max_length to None to pad to the maximal input size of the model (e.g. 512 for Bert).\n",
            "  FutureWarning,\n",
            "/usr/local/lib/python3.7/dist-packages/transformers/tokenization_utils_base.py:2307: FutureWarning: The `pad_to_max_length` argument is deprecated and will be removed in a future version, use `padding=True` or `padding='longest'` to pad to the longest sequence in the batch, or use `padding='max_length'` to pad to a max length. In this case, you can give a specific length with `max_length` (e.g. `max_length=45`) or leave max_length to None to pad to the maximal input size of the model (e.g. 512 for Bert).\n",
            "  FutureWarning,\n"
          ]
        },
        {
          "output_type": "stream",
          "name": "stdout",
          "text": [
            "Val   loss 0.8773015440104064 accuracy 0.8678526048284626\n",
            "\n",
            "CPU times: user 41min 40s, sys: 19min 39s, total: 1h 1min 20s\n",
            "Wall time: 1h 1min 42s\n"
          ]
        }
      ]
    },
    {
      "cell_type": "code",
      "source": [
        "plt.plot(history_train_acc, label='train accuracy')\n",
        "plt.plot(history_val_loss, label='validation accuracy')\n",
        "\n",
        "plt.title('Training history')\n",
        "plt.ylabel('Accuracy')\n",
        "plt.xlabel('Epoch')\n",
        "plt.legend()\n",
        "plt.ylim([0, 1]);"
      ],
      "metadata": {
        "id": "ivY0tBkORTgR",
        "outputId": "e5e469c1-d061-4e98-c024-f11f3bb19fdb",
        "colab": {
          "base_uri": "https://localhost:8080/",
          "height": 523
        }
      },
      "execution_count": 46,
      "outputs": [
        {
          "output_type": "display_data",
          "data": {
            "text/plain": [
              "<Figure size 864x576 with 1 Axes>"
            ],
            "image/png": "[encoded data removed]"
          },
          "metadata": {
            "image/png": {
              "width": 732,
              "height": 506
            }
          }
        }
      ]
    },
    {
      "cell_type": "code",
      "source": [
        "test_acc, _ = eval_model(\n",
        "  model,\n",
        "  test_data_loader,\n",
        "  loss_fn,\n",
        "  device,\n",
        "  len(df_test)\n",
        ")\n",
        "\n",
        "test_acc.item()"
      ],
      "metadata": {
        "id": "nK8Dj7yiuERv",
        "colab": {
          "base_uri": "https://localhost:8080/"
        },
        "outputId": "f6f668a1-9487-4ec6-d13f-a066c4388e39"
      },
      "execution_count": 47,
      "outputs": [
        {
          "output_type": "stream",
          "name": "stderr",
          "text": [
            "/usr/local/lib/python3.7/dist-packages/torch/utils/data/dataloader.py:490: UserWarning: This DataLoader will create 4 worker processes in total. Our suggested max number of worker in current system is 2, which is smaller than what this DataLoader is going to create. Please be aware that excessive worker creation might get DataLoader running slow or even freeze, lower the worker number to avoid potential slowness/freeze if necessary.\n",
            "  cpuset_checked))\n",
            "/usr/local/lib/python3.7/dist-packages/transformers/tokenization_utils_base.py:2307: FutureWarning: The `pad_to_max_length` argument is deprecated and will be removed in a future version, use `padding=True` or `padding='longest'` to pad to the longest sequence in the batch, or use `padding='max_length'` to pad to a max length. In this case, you can give a specific length with `max_length` (e.g. `max_length=45`) or leave max_length to None to pad to the maximal input size of the model (e.g. 512 for Bert).\n",
            "  FutureWarning,\n",
            "/usr/local/lib/python3.7/dist-packages/transformers/tokenization_utils_base.py:2307: FutureWarning: The `pad_to_max_length` argument is deprecated and will be removed in a future version, use `padding=True` or `padding='longest'` to pad to the longest sequence in the batch, or use `padding='max_length'` to pad to a max length. In this case, you can give a specific length with `max_length` (e.g. `max_length=45`) or leave max_length to None to pad to the maximal input size of the model (e.g. 512 for Bert).\n",
            "  FutureWarning,\n",
            "/usr/local/lib/python3.7/dist-packages/transformers/tokenization_utils_base.py:2307: FutureWarning: The `pad_to_max_length` argument is deprecated and will be removed in a future version, use `padding=True` or `padding='longest'` to pad to the longest sequence in the batch, or use `padding='max_length'` to pad to a max length. In this case, you can give a specific length with `max_length` (e.g. `max_length=45`) or leave max_length to None to pad to the maximal input size of the model (e.g. 512 for Bert).\n",
            "  FutureWarning,\n",
            "/usr/local/lib/python3.7/dist-packages/transformers/tokenization_utils_base.py:2307: FutureWarning: The `pad_to_max_length` argument is deprecated and will be removed in a future version, use `padding=True` or `padding='longest'` to pad to the longest sequence in the batch, or use `padding='max_length'` to pad to a max length. In this case, you can give a specific length with `max_length` (e.g. `max_length=45`) or leave max_length to None to pad to the maximal input size of the model (e.g. 512 for Bert).\n",
            "  FutureWarning,\n"
          ]
        },
        {
          "output_type": "execute_result",
          "data": {
            "text/plain": [
              "0.8908629441624365"
            ]
          },
          "metadata": {},
          "execution_count": 47
        }
      ]
    },
    {
      "cell_type": "code",
      "source": [
        "def get_predictions(model, data_loader):\n",
        "  model = model.eval()\n",
        "  \n",
        "  review_texts = []\n",
        "  predictions = []\n",
        "  prediction_probs = []\n",
        "  real_values = []\n",
        "\n",
        "  with torch.no_grad():\n",
        "    for d in data_loader:\n",
        "\n",
        "      texts = d[\"review_text\"]\n",
        "      input_ids = d[\"input_ids\"].to(device)\n",
        "      attention_mask = d[\"attention_mask\"].to(device)\n",
        "      targets = d[\"targets\"].to(device)\n",
        "\n",
        "      outputs = model(\n",
        "        input_ids=input_ids,\n",
        "        attention_mask=attention_mask\n",
        "      )\n",
        "      _, preds = torch.max(outputs, dim=1)\n",
        "\n",
        "      probs = F.softmax(outputs, dim=1)\n",
        "\n",
        "      review_texts.extend(texts)\n",
        "      predictions.extend(preds)\n",
        "      prediction_probs.extend(probs)\n",
        "      real_values.extend(targets)\n",
        "\n",
        "  predictions = torch.stack(predictions).cpu()\n",
        "  prediction_probs = torch.stack(prediction_probs).cpu()\n",
        "  real_values = torch.stack(real_values).cpu()\n",
        "  return review_texts, predictions, prediction_probs, real_values"
      ],
      "metadata": {
        "id": "UJ5z3c1TxZgF"
      },
      "execution_count": 48,
      "outputs": []
    },
    {
      "cell_type": "code",
      "source": [
        "y_review_texts, y_pred, y_pred_probs, y_test = get_predictions(\n",
        "  model,\n",
        "  test_data_loader\n",
        ")"
      ],
      "metadata": {
        "id": "PB81s4kSxmbY",
        "colab": {
          "base_uri": "https://localhost:8080/"
        },
        "outputId": "5dbbc2da-6107-4bef-850d-61057b27bf7f"
      },
      "execution_count": 49,
      "outputs": [
        {
          "output_type": "stream",
          "name": "stderr",
          "text": [
            "/usr/local/lib/python3.7/dist-packages/torch/utils/data/dataloader.py:490: UserWarning: This DataLoader will create 4 worker processes in total. Our suggested max number of worker in current system is 2, which is smaller than what this DataLoader is going to create. Please be aware that excessive worker creation might get DataLoader running slow or even freeze, lower the worker number to avoid potential slowness/freeze if necessary.\n",
            "  cpuset_checked))\n",
            "/usr/local/lib/python3.7/dist-packages/transformers/tokenization_utils_base.py:2307: FutureWarning: The `pad_to_max_length` argument is deprecated and will be removed in a future version, use `padding=True` or `padding='longest'` to pad to the longest sequence in the batch, or use `padding='max_length'` to pad to a max length. In this case, you can give a specific length with `max_length` (e.g. `max_length=45`) or leave max_length to None to pad to the maximal input size of the model (e.g. 512 for Bert).\n",
            "  FutureWarning,\n",
            "/usr/local/lib/python3.7/dist-packages/transformers/tokenization_utils_base.py:2307: FutureWarning: The `pad_to_max_length` argument is deprecated and will be removed in a future version, use `padding=True` or `padding='longest'` to pad to the longest sequence in the batch, or use `padding='max_length'` to pad to a max length. In this case, you can give a specific length with `max_length` (e.g. `max_length=45`) or leave max_length to None to pad to the maximal input size of the model (e.g. 512 for Bert).\n",
            "  FutureWarning,\n",
            "/usr/local/lib/python3.7/dist-packages/transformers/tokenization_utils_base.py:2307: FutureWarning: The `pad_to_max_length` argument is deprecated and will be removed in a future version, use `padding=True` or `padding='longest'` to pad to the longest sequence in the batch, or use `padding='max_length'` to pad to a max length. In this case, you can give a specific length with `max_length` (e.g. `max_length=45`) or leave max_length to None to pad to the maximal input size of the model (e.g. 512 for Bert).\n",
            "  FutureWarning,\n",
            "/usr/local/lib/python3.7/dist-packages/transformers/tokenization_utils_base.py:2307: FutureWarning: The `pad_to_max_length` argument is deprecated and will be removed in a future version, use `padding=True` or `padding='longest'` to pad to the longest sequence in the batch, or use `padding='max_length'` to pad to a max length. In this case, you can give a specific length with `max_length` (e.g. `max_length=45`) or leave max_length to None to pad to the maximal input size of the model (e.g. 512 for Bert).\n",
            "  FutureWarning,\n"
          ]
        }
      ]
    },
    {
      "cell_type": "markdown",
      "source": [
        "###Classification Report"
      ],
      "metadata": {
        "id": "pdOpCHgvyMtg"
      }
    },
    {
      "cell_type": "code",
      "source": [
        "print(classification_report(y_test, y_pred, target_names=class_names))"
      ],
      "metadata": {
        "id": "SncOi_8TxrIa",
        "colab": {
          "base_uri": "https://localhost:8080/"
        },
        "outputId": "518e50c3-59ac-429a-aeee-1223d7cb7e96"
      },
      "execution_count": 50,
      "outputs": [
        {
          "output_type": "stream",
          "name": "stdout",
          "text": [
            "              precision    recall  f1-score   support\n",
            "\n",
            "    negative       0.91      0.87      0.89       245\n",
            "     neutral       0.84      0.85      0.85       254\n",
            "    positive       0.92      0.94      0.93       289\n",
            "\n",
            "    accuracy                           0.89       788\n",
            "   macro avg       0.89      0.89      0.89       788\n",
            "weighted avg       0.89      0.89      0.89       788\n",
            "\n"
          ]
        }
      ]
    },
    {
      "cell_type": "code",
      "source": [
        "#@title Default title text\n",
        "def show_confusion_matrix(confusion_matrix):\n",
        "  hmap = sns.heatmap(confusion_matrix, annot=True, fmt=\"d\", cmap=\"Blues\")\n",
        "  hmap.yaxis.set_ticklabels(hmap.yaxis.get_ticklabels(), rotation=0, ha='right')\n",
        "  hmap.xaxis.set_ticklabels(hmap.xaxis.get_ticklabels(), rotation=30, ha='right')\n",
        "  plt.ylabel('True sentiment')\n",
        "  plt.xlabel('Predicted sentiment');\n",
        "\n",
        "cm = confusion_matrix(y_test, y_pred)\n",
        "df_cm = pd.DataFrame(cm, index=class_names, columns=class_names)\n",
        "show_confusion_matrix(df_cm)"
      ],
      "metadata": {
        "colab": {
          "base_uri": "https://localhost:8080/",
          "height": 533
        },
        "id": "_03z3TfbgSHe",
        "outputId": "21e2df47-5ced-4e4d-f100-da1d49997f7a",
        "cellView": "code"
      },
      "execution_count": 51,
      "outputs": [
        {
          "output_type": "display_data",
          "data": {
            "text/plain": [
              "<Figure size 864x576 with 2 Axes>"
            ],
            "image/png": "[encoded data removed]"
          },
          "metadata": {
            "image/png": {
              "width": 725,
              "height": 516
            }
          }
        }
      ]
    },
    {
      "cell_type": "markdown",
      "source": [
        "###Predicting on raw text"
      ],
      "metadata": {
        "id": "sP8DN9obyFBa"
      }
    },
    {
      "cell_type": "code",
      "source": [
        "review_text = \"I love completing my todos! Best app ever!!!\""
      ],
      "metadata": {
        "id": "btDpCUapxvZg"
      },
      "execution_count": 52,
      "outputs": []
    },
    {
      "cell_type": "code",
      "source": [
        "encoded_review = tokenizer.encode_plus(\n",
        "    review_text,\n",
        "    max_length=MAX_LEN,\n",
        "    add_special_tokens=True,\n",
        "    return_token_type_ids=False,\n",
        "    pad_to_max_length=True,\n",
        "    return_attention_mask=True,\n",
        "    return_tensors='pt',\n",
        ")"
      ],
      "metadata": {
        "id": "QtJcmCCex4-a",
        "colab": {
          "base_uri": "https://localhost:8080/"
        },
        "outputId": "53f1cbe7-f3db-4b92-c0aa-ef77845b06f2"
      },
      "execution_count": 53,
      "outputs": [
        {
          "output_type": "stream",
          "name": "stderr",
          "text": [
            "/usr/local/lib/python3.7/dist-packages/transformers/tokenization_utils_base.py:2307: FutureWarning: The `pad_to_max_length` argument is deprecated and will be removed in a future version, use `padding=True` or `padding='longest'` to pad to the longest sequence in the batch, or use `padding='max_length'` to pad to a max length. In this case, you can give a specific length with `max_length` (e.g. `max_length=45`) or leave max_length to None to pad to the maximal input size of the model (e.g. 512 for Bert).\n",
            "  FutureWarning,\n"
          ]
        }
      ]
    },
    {
      "cell_type": "code",
      "source": [
        "input_ids = encoded_review['input_ids'].to(device)\n",
        "attention_mask = encoded_review['attention_mask'].to(device)\n",
        "\n",
        "output = model(input_ids, attention_mask)\n",
        "_, prediction = torch.max(output, dim=1)\n",
        "\n",
        "print(f'Review text: {review_text}')\n",
        "print(f'Sentiment  : {class_names[prediction]}')"
      ],
      "metadata": {
        "id": "H_07sZKEx8zj",
        "colab": {
          "base_uri": "https://localhost:8080/"
        },
        "outputId": "247414d0-9afa-4856-cc45-d29c68d4d37e"
      },
      "execution_count": 54,
      "outputs": [
        {
          "output_type": "stream",
          "name": "stdout",
          "text": [
            "Review text: I love completing my todos! Best app ever!!!\n",
            "Sentiment  : positive\n"
          ]
        }
      ]
    }
  ]
}